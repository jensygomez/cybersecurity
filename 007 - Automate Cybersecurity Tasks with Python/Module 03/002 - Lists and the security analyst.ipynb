{
  "nbformat": 4,
  "nbformat_minor": 0,
  "metadata": {
    "colab": {
      "provenance": []
    },
    "kernelspec": {
      "name": "python3",
      "display_name": "Python 3"
    },
    "language_info": {
      "name": "python"
    }
  },
  "cells": [
    {
      "cell_type": "markdown",
      "source": [
        "\n",
        "# Lists and the security analyst\n",
        "\n",
        "Previously, you examined how to use bracket notation to access and change elements in a list and some fundamental methods for working with lists. This reading will review these concepts with new examples, introduce the .index() method as it applies to lists, and highlight how lists are used in a cybersecurity context.\n",
        "\n",
        "## List data in a security setting\n",
        "\n",
        "As a security analyst, you'll frequently work with lists in Python. **List data** is a data structure that consists of a collection of data in sequential form. You can use lists to store multiple elements in a single variable. A single list can contain multiple data types.\n",
        "\n",
        "In a cybersecurity context, lists might be used to store usernames, IP addresses, URLs, device IDs, and data.\n",
        "\n",
        "Placing data within a list allows you to work with it in a variety of ways. For example, you might iterate through a list of device IDs using a for loop to perform the same actions for all items in the list. You could incorporate a conditional statement to only perform these actions if the device IDs meet certain conditions.\n",
        "\n",
        "## Working with indices in lists\n",
        "\n",
        "### Indices\n",
        "\n",
        "Like strings, you can work with lists through their indices, and indices start at 0. In a list, an index is assigned to every element in the list.\n",
        "\n",
        "This table contains the index for each element in the list [\"elarson\", \"fgarcia\", \"tshah\", \"sgilmore\"]:"
      ],
      "metadata": {
        "id": "Kb1mezx4fD0L"
      }
    },
    {
      "cell_type": "markdown",
      "source": [
        "| **element** | **index** |\n",
        "| --- | --- |\n",
        "| \"elarson\" | 0   |\n",
        "| \"fgarcia\" | 1   |\n",
        "| \"tshah\" | 2   |\n",
        "| \"sgilmore\" | 3   |\n",
        "\n",
        "## Bracket notation\n",
        "\n",
        "Similar to strings, you can use bracket notation to extract elements or slices in a list. To extract an element from a list, after the list or the variable that contains a list, add square brackets that contain the index of the element. The following example extracts the element with an index of 2 from the variable username_list and prints it. You can run this code to examine what it outputs:"
      ],
      "metadata": {
        "id": "3-M-aacpfU92"
      }
    },
    {
      "cell_type": "code",
      "source": [
        "username_list = [\"elarson\", \"fgarcia\", \"tshah\", \"sgilmore\"]\n",
        "print(username_list[2])\n"
      ],
      "metadata": {
        "colab": {
          "base_uri": "https://localhost:8080/"
        },
        "id": "jxm683cegZaJ",
        "outputId": "0b19f834-6cf6-4652-bbb9-3ad98455ef76"
      },
      "execution_count": 4,
      "outputs": [
        {
          "output_type": "stream",
          "name": "stdout",
          "text": [
            "tshah\n"
          ]
        }
      ]
    },
    {
      "cell_type": "markdown",
      "source": [
        "This example extracts the element at index **2** directly from the list:"
      ],
      "metadata": {
        "id": "MKLRdGRIgmW0"
      }
    },
    {
      "cell_type": "code",
      "source": [
        "print([\"elarson\", \"fgarcia\", \"tshah\", \"sgilmore\"][2])"
      ],
      "metadata": {
        "colab": {
          "base_uri": "https://localhost:8080/"
        },
        "id": "HOWd87_Kgpn5",
        "outputId": "e9e15615-6e8a-4d15-df45-fc0f57f41688"
      },
      "execution_count": 5,
      "outputs": [
        {
          "output_type": "stream",
          "name": "stdout",
          "text": [
            "tshah\n"
          ]
        }
      ]
    },
    {
      "cell_type": "markdown",
      "source": [
        "### **Extracting a slice from a list**\n",
        "\n",
        "Just like with strings, it's also possible to use bracket notation to take a slice from a list. With lists, this means extracting more than one element from the list.\n",
        "\n",
        "When you extract a slice from a list, the result is another list. This extracted list is called a sublist because it is part of the original, larger list.\n",
        "\n",
        "To extract a sublist using bracket notation, you need to include two indices. You can run the following code that takes a slice from a list and explore the sublist it returns:"
      ],
      "metadata": {
        "id": "exiUClkVgvC6"
      }
    },
    {
      "cell_type": "code",
      "source": [
        "username_list = [\"elarson\", \"fgarcia\", \"tshah\", \"sgilmore\"]\n",
        "print(username_list[0:2])"
      ],
      "metadata": {
        "colab": {
          "base_uri": "https://localhost:8080/"
        },
        "id": "yPvoG6Rpg3-e",
        "outputId": "3e850719-2cb4-491e-87f4-640f8e2f9659"
      },
      "execution_count": 6,
      "outputs": [
        {
          "output_type": "stream",
          "name": "stdout",
          "text": [
            "['elarson', 'fgarcia']\n"
          ]
        }
      ]
    },
    {
      "cell_type": "markdown",
      "source": [
        "\n",
        "The code returns a sublist of [\"elarson\", \"fgarcia\"]. This is because the element at index 0, \"elarson\", is included in the slice, but the element at index 2, \"tshah\", is excluded. The slice ends one element before this index.\n",
        "\n",
        "## Changing the elements in a list\n",
        "\n",
        "Unlike strings, you can also use bracket notation to change elements in a list. This is because a string is **immutable** and cannot be changed after it is created and assigned a value, but lists are not immutable.\n",
        "\n",
        "To change a list element, use similar syntax as you would use when reassigning a variable, but place the specific element to change in bracket notation after the variable name. For example, the following code changes the element at index 1 of the username_list variable to \"bmoreno\"."
      ],
      "metadata": {
        "id": "ub38UbB8g88-"
      }
    },
    {
      "cell_type": "code",
      "source": [
        "username_list = [\"elarson\", \"fgarcia\", \"tshah\", \"sgilmore\"]\n",
        "print(\"Before changing an element:\", username_list)\n",
        "username_list[1] = \"bmoreno\"\n",
        "print(\"After changing an element:\", username_list)"
      ],
      "metadata": {
        "colab": {
          "base_uri": "https://localhost:8080/"
        },
        "id": "SFp3n2JVg_qS",
        "outputId": "ee2ffcbe-a01e-4ba1-f186-3e09edc61a11"
      },
      "execution_count": 7,
      "outputs": [
        {
          "output_type": "stream",
          "name": "stdout",
          "text": [
            "Before changing an element: ['elarson', 'fgarcia', 'tshah', 'sgilmore']\n",
            "After changing an element: ['elarson', 'bmoreno', 'tshah', 'sgilmore']\n"
          ]
        }
      ]
    },
    {
      "cell_type": "markdown",
      "source": [
        "\n",
        "This code has updated the element at index 1 from \"fgarcia\" to \"bmoreno\".\n",
        "\n",
        "## List methods\n",
        "\n",
        "List methods are functions that are specific to the list data type. These include the .insert() , .remove(), .append() and .index().\n",
        "\n",
        "### **.insert()**\n",
        "\n",
        "The .insert() method adds an element in a specific position inside a list. It has two parameters. The first is the index where you will insert the new element, and the second is the element you want to insert.\n",
        "\n",
        "You can run the following code to explore how this method can be used to insert a new username into a username list:"
      ],
      "metadata": {
        "id": "w4Gjl9KWhFMG"
      }
    },
    {
      "cell_type": "code",
      "source": [
        "username_list = [\"elarson\", \"bmoreno\", \"tshah\", \"sgilmore\"]\n",
        "print(\"Before inserting an element:\", username_list)\n",
        "username_list.insert(2,\"wjaffrey\")\n",
        "print(\"After inserting an element:\", username_list)"
      ],
      "metadata": {
        "colab": {
          "base_uri": "https://localhost:8080/"
        },
        "id": "lbBCex15hHKH",
        "outputId": "d1c63a5d-f55d-4c61-cb33-305d295a6079"
      },
      "execution_count": 8,
      "outputs": [
        {
          "output_type": "stream",
          "name": "stdout",
          "text": [
            "Before inserting an element: ['elarson', 'bmoreno', 'tshah', 'sgilmore']\n",
            "After inserting an element: ['elarson', 'bmoreno', 'wjaffrey', 'tshah', 'sgilmore']\n"
          ]
        }
      ]
    },
    {
      "cell_type": "markdown",
      "source": [
        "\n",
        "Because the first parameter is 2 and the second parameter is \"wjaffrey\", \"wjaffrey\" is inserted at index 2, which is the third position. The other list elements are shifted one position in the list. For example, \"tshah\" was originally located at index 2 and now is located at index 3.\n",
        "\n",
        "### **.remove()**\n",
        "\n",
        "The .remove() method removes the first occurrence of a specific element in a list. It has only one parameter, the element you want to remove.\n",
        "\n",
        "The following code removes \"elarson\" from the username_list:"
      ],
      "metadata": {
        "id": "uqh8xlUBhOWV"
      }
    },
    {
      "cell_type": "code",
      "source": [
        "username_list = [\"elarson\", \"bmoreno\", \"wjaffrey\", \"tshah\", \"sgilmore\"]\n",
        "print(\"Before removing an element:\", username_list)\n",
        "username_list.remove(\"elarson\")\n",
        "print(\"After removing an element:\", username_list)"
      ],
      "metadata": {
        "colab": {
          "base_uri": "https://localhost:8080/"
        },
        "id": "esr48-RBhRdn",
        "outputId": "e076c292-126c-4da3-e911-5030f25ff86a"
      },
      "execution_count": 9,
      "outputs": [
        {
          "output_type": "stream",
          "name": "stdout",
          "text": [
            "Before removing an element: ['elarson', 'bmoreno', 'wjaffrey', 'tshah', 'sgilmore']\n",
            "After removing an element: ['bmoreno', 'wjaffrey', 'tshah', 'sgilmore']\n"
          ]
        }
      ]
    },
    {
      "cell_type": "markdown",
      "source": [
        "\n",
        "This code removes \"elarson\" from the list. The elements that follow \"elarson\" are all shifted one position closer to the beginning of the list.\n",
        "\n",
        "**Note:** If there are two of the same element in a list, the .remove() method only removes the first instance of that element and not all occurrences.\n",
        "\n",
        "### **.append()**\n",
        "\n",
        "The .append() method adds input to the end of a list. Its one parameter is the element you want to add to the end of the list.\n",
        "\n",
        "For example, you could use .append() to add \"btang\" to the end of the username_list:"
      ],
      "metadata": {
        "id": "WJhMe0lXhdHW"
      }
    },
    {
      "cell_type": "code",
      "source": [
        "username_list = [\"bmoreno\", \"wjaffrey\", \"tshah\", \"sgilmore\"]\n",
        "print(\"Before appending an element:\", username_list)\n",
        "username_list.append(\"btang\")\n",
        "print(\"After appending an element:\", username_list)"
      ],
      "metadata": {
        "colab": {
          "base_uri": "https://localhost:8080/"
        },
        "id": "sfFjnxTHhgDx",
        "outputId": "7b00fa7a-512a-4078-dc1a-8ed87b3c1573"
      },
      "execution_count": 10,
      "outputs": [
        {
          "output_type": "stream",
          "name": "stdout",
          "text": [
            "Before appending an element: ['bmoreno', 'wjaffrey', 'tshah', 'sgilmore']\n",
            "After appending an element: ['bmoreno', 'wjaffrey', 'tshah', 'sgilmore', 'btang']\n"
          ]
        }
      ]
    },
    {
      "cell_type": "markdown",
      "source": [
        "\n",
        "This code places \"btang\" at the end of the username_list, and all other elements remain in their original positions.\n",
        "\n",
        "The **.append()** method is often used with for loops to populate an empty list with elements. You can explore how this works with the following code:"
      ],
      "metadata": {
        "id": "LOhq7_-GhhV5"
      }
    },
    {
      "cell_type": "code",
      "source": [
        "numbers_list = []\n",
        "print(\"Before appending a sequence of numbers:\", numbers_list)\n",
        "for i in range(10):\n",
        "    numbers_list.append(i)\n",
        "print(\"After appending a sequence of numbers:\", numbers_list)"
      ],
      "metadata": {
        "colab": {
          "base_uri": "https://localhost:8080/"
        },
        "id": "nIuz0JE1hqs6",
        "outputId": "b3507928-3b8d-488c-9b4f-3795cd9a790c"
      },
      "execution_count": 11,
      "outputs": [
        {
          "output_type": "stream",
          "name": "stdout",
          "text": [
            "Before appending a sequence of numbers: []\n",
            "After appending a sequence of numbers: [0, 1, 2, 3, 4, 5, 6, 7, 8, 9]\n"
          ]
        }
      ]
    },
    {
      "cell_type": "markdown",
      "source": [
        "\n",
        "Before the for loop, the numbers_list variable does not contain any elements. When it is printed, the empty list is displayed. Then, the for loop iterates through a sequence of numbers and uses the .append() method to add each of these numbers to numbers_list. After the loop, when the numbers_list variable is printed, it displays these numbers.\n",
        "\n",
        "## .index()\n",
        "\n",
        "Similar to the .index() method used for strings, the .index() method used for lists finds the first occurrence of an element in a list and returns its index. It takes the element you're searching for as an input.\n",
        "\n",
        "**Note:** Although it has the same name and use as the .index() method used for strings, the .index() method used for lists is not the same method. Methods are defined when defining a data type, and because strings and lists are defined differently, the methods are also different.\n",
        "\n",
        "Using the username_list variable, you can use the .index() method to find the index of the username \"tshah\":"
      ],
      "metadata": {
        "id": "hD_7oziWhww9"
      }
    },
    {
      "cell_type": "code",
      "source": [
        "username_list = [\"bmoreno\", \"wjaffrey\", \"tshah\", \"sgilmore\", \"btang\"]\n",
        "username_index = username_list.index(\"tshah\")\n",
        "print(username_index)"
      ],
      "metadata": {
        "colab": {
          "base_uri": "https://localhost:8080/"
        },
        "id": "wcq6DNTlhyAV",
        "outputId": "923eade8-e534-4931-ce5d-0d4c551f756d"
      },
      "execution_count": 12,
      "outputs": [
        {
          "output_type": "stream",
          "name": "stdout",
          "text": [
            "2\n"
          ]
        }
      ]
    },
    {
      "cell_type": "markdown",
      "source": [
        "\n",
        "Because the index of \"tshah\" is 2, it outputs this number.\n",
        "\n",
        "Similar to the .index() method used for strings, it only returns the index of the first occurrence of a list item. So if the username \"tshah\" were repeated twice, it would return the index of the first instance, and not the second.\n",
        "\n",
        "## Key takeaways\n",
        "\n",
        "Python offers a lot of ways to work with lists. Bracket notation allows you to extract elements and slices from lists and also to alter them. List methods allow you to alter lists in a variety of ways. The .insert() and .append() methods add elements to lists while the .remove() method allows you to remove them. The .index() method allows you to find the index of an element in a list."
      ],
      "metadata": {
        "id": "iQb4CXKWh5Jo"
      }
    }
  ]
}