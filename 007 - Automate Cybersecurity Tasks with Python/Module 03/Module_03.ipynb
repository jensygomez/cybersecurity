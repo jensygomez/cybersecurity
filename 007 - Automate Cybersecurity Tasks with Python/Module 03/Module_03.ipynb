{
  "nbformat": 4,
  "nbformat_minor": 0,
  "metadata": {
    "colab": {
      "provenance": [],
      "toc_visible": true
    },
    "kernelspec": {
      "name": "python3",
      "display_name": "Python 3"
    },
    "language_info": {
      "name": "python"
    }
  },
  "cells": [
    {
      "cell_type": "markdown",
      "source": [
        "# Work with strings"
      ],
      "metadata": {
        "id": "05N6C24o__m9"
      }
    },
    {
      "cell_type": "markdown",
      "source": [
        "# Work with lists and develop algorithms"
      ],
      "metadata": {
        "id": "kxW_2h0iAskd"
      }
    },
    {
      "cell_type": "markdown",
      "source": [
        "# Regular expressions"
      ],
      "metadata": {
        "id": "JvJHpx1hA6yF"
      }
    },
    {
      "cell_type": "markdown",
      "source": [
        "# review: Work eith strings and lists"
      ],
      "metadata": {
        "id": "vp9jcA-NBD7H"
      }
    }
  ]
}