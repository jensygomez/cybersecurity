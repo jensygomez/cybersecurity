{
  "cells": [
    {
      "cell_type": "markdown",
      "metadata": {
        "id": "05N6C24o__m9"
      },
      "source": [
        "# Work with strings"
      ]
    },
    {
      "cell_type": "markdown",
      "metadata": {
        "id": "kxW_2h0iAskd"
      },
      "source": [
        "# Work with lists and develop algorithms"
      ]
    },
    {
      "cell_type": "code",
      "execution_count": 4,
      "metadata": {},
      "outputs": [
        {
          "name": "stdout",
          "output_type": "stream",
          "text": [
            "192\n"
          ]
        }
      ],
      "source": [
        "address = \"192.168.XXX.XXX\"\n",
        "# Extract the first three characters of an  IP address\n",
        "print(address[0:3])"
      ]
    },
    {
      "cell_type": "code",
      "execution_count": 8,
      "metadata": {},
      "outputs": [
        {
          "name": "stdout",
          "output_type": "stream",
          "text": [
            "['192', '176', '193', '198']\n"
          ]
        }
      ],
      "source": [
        "IP = [\"192.168.XXX.XXX\", \"176.160.XXX.XXX\", \"193.200.XXX.XXX\", \"198.165.XXX.XXX\"]\n",
        "# Extract the first three characters from a list  of IP address\n",
        "networks = []\n",
        "for i in IP:\n",
        "    networks.append(i[0:3])\n",
        "print(networks)"
      ]
    },
    {
      "cell_type": "markdown",
      "metadata": {
        "id": "JvJHpx1hA6yF"
      },
      "source": [
        "# Regular expressions"
      ]
    },
    {
      "cell_type": "markdown",
      "metadata": {
        "id": "vp9jcA-NBD7H"
      },
      "source": [
        "# review: Work eith strings and lists"
      ]
    }
  ],
  "metadata": {
    "colab": {
      "provenance": [],
      "toc_visible": true
    },
    "kernelspec": {
      "display_name": "Python 3",
      "name": "python3"
    },
    "language_info": {
      "codemirror_mode": {
        "name": "ipython",
        "version": 3
      },
      "file_extension": ".py",
      "mimetype": "text/x-python",
      "name": "python",
      "nbconvert_exporter": "python",
      "pygments_lexer": "ipython3",
      "version": "3.11.7"
    }
  },
  "nbformat": 4,
  "nbformat_minor": 0
}
