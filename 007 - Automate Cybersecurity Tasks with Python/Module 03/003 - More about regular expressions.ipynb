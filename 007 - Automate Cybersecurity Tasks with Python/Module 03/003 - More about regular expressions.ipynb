{
  "nbformat": 4,
  "nbformat_minor": 0,
  "metadata": {
    "colab": {
      "provenance": []
    },
    "kernelspec": {
      "name": "python3",
      "display_name": "Python 3"
    },
    "language_info": {
      "name": "python"
    }
  },
  "cells": [
    {
      "cell_type": "markdown",
      "source": [
        "\n",
        "# More about regular expressions\n",
        "\n",
        "You were previously introduced to regular expressions and a couple of symbols that you can use to construct regular expression patterns. In this reading, you'll explore additional regular expression symbols that can be used in a cybersecurity context. You'll also learn more about the re module and its re.findall() function.\n",
        "\n",
        "## Basics of regular expressions\n",
        "\n",
        "A **regular expression (regex)** is a sequence of characters that forms a pattern. You can use these in Python to search for a variety of patterns. This could include IP addresses, emails, or device IDs.\n",
        "\n",
        "To access regular expressions and related functions in Python, you need to import the re module first. You should use the following line of code to import the re module:\n",
        "\n",
        "    import re\n",
        "\n",
        "Regular expressions are stored in Python as strings. Then, these strings are used in re module functions to search through other strings. There are many functions in the re module, but you will explore how regular expressions work through **re.findall()**. The **re.findall()** function returns a list of matches to a regular expression. It requires two parameters. The first is the string containing the regular expression pattern, and the second is the string you want to search through.\n",
        "\n",
        "The patterns that comprise a regular expression consist of alphanumeric characters and special symbols. If a regular expression pattern consists only of alphanumeric characters, Python will review the specified string for matches to this pattern and return them. In the following example, the first parameter is a regular expression pattern consisting only of the alphanumeric characters **\"ts\"**. The second parameter, **\"tsnow, tshah, bmoreno\"**, is the string it will search through. You can run the following code to explore what it returns:"
      ],
      "metadata": {
        "id": "mFPx6NpQvGfq"
      }
    },
    {
      "cell_type": "code",
      "source": [
        "import re\n",
        "\n",
        "re.findall(\"ts\", \"tsnow, tshah, bmoreno\")"
      ],
      "metadata": {
        "colab": {
          "base_uri": "https://localhost:8080/"
        },
        "id": "5dXpUsD8vPRr",
        "outputId": "58f9561a-6efe-4a35-8b3d-1238fed4ea5f"
      },
      "execution_count": 13,
      "outputs": [
        {
          "output_type": "execute_result",
          "data": {
            "text/plain": [
              "['ts', 'ts']"
            ]
          },
          "metadata": {},
          "execution_count": 13
        }
      ]
    },
    {
      "cell_type": "markdown",
      "source": [
        "\n",
        "The output is a list of only two elements, the two matches to \"ts\": ['ts', 'ts'].\n",
        "\n",
        "If you want to do more than search for specific strings, you must incorporate special symbols into your regular expressions.\n",
        "\n",
        "## Regular expression symbols\n",
        "\n",
        "### Symbols for character types\n",
        "\n",
        "You can use a variety of symbols to form a pattern for your regular expression. Some of these symbols identify a particular type of character. For example, \\w matches with any alphanumeric character.\n",
        "\n",
        "**Note:** The \\w symbol also matches with the underscore ( _ ).\n",
        "\n",
        "You can run this code to explore what re.findall() returns when applying the regular expression of \"\\w\" to the device ID of \"h32rb17\"."
      ],
      "metadata": {
        "id": "s5pZuUa4v16S"
      }
    },
    {
      "cell_type": "code",
      "source": [
        "import re\n",
        "\n",
        "re.findall(\"\\w\", \"h32rb17\" )\n",
        "\n"
      ],
      "metadata": {
        "colab": {
          "base_uri": "https://localhost:8080/"
        },
        "id": "tEudWVFav4c2",
        "outputId": "a63a7b15-3137-4736-e7ab-fc6cc238c468"
      },
      "execution_count": 14,
      "outputs": [
        {
          "output_type": "execute_result",
          "data": {
            "text/plain": [
              "['h', '3', '2', 'r', 'b', '1', '7']"
            ]
          },
          "metadata": {},
          "execution_count": 14
        }
      ]
    },
    {
      "cell_type": "markdown",
      "source": [
        "\n",
        "Because every character within this device ID is an alphanumeric character, Python returns a list with seven elements. Each element represents one of the characters in the device ID.\n",
        "\n",
        "You can use these additional symbols to match to specific kinds of characters:\n",
        "\n",
        "-   **.** matches to all characters, including symbols\n",
        "    \n",
        "-   **\\d** matches to all single digits [0-9]\n",
        "    \n",
        "-   **\\s** matches to all single spaces\n",
        "    \n",
        "-   **\\.** matches to the period character\n",
        "    \n",
        "\n",
        "The following code searches through the same device ID as the previous example but changes the regular expression pattern to **\"\\d\"**. When you run it, it will return a different list:"
      ],
      "metadata": {
        "id": "dkXZ5oI7wWXU"
      }
    },
    {
      "cell_type": "code",
      "source": [
        "import re\n",
        "\n",
        "re.findall(\"\\d\", \"h32rb17\")\n",
        "\n"
      ],
      "metadata": {
        "colab": {
          "base_uri": "https://localhost:8080/"
        },
        "id": "cUwaaRP4waRG",
        "outputId": "40289f2a-97a0-4ea7-b0c0-41e2c7ade041"
      },
      "execution_count": 15,
      "outputs": [
        {
          "output_type": "execute_result",
          "data": {
            "text/plain": [
              "['3', '2', '1', '7']"
            ]
          },
          "metadata": {},
          "execution_count": 15
        }
      ]
    },
    {
      "cell_type": "markdown",
      "source": [
        "\n",
        "This time, the list contains only four elements. Each element is one of the numeric digits in the string.\n",
        "\n",
        "### Symbols to quantify occurrences\n",
        "\n",
        "Other symbols quantify the number of occurrences of a specific character in the pattern. In a regular expression pattern, you can add them after a character or a symbol identifying a character type to specify the number of repetitions that match to the pattern.\n",
        "\n",
        "For example, the + symbol represents one or more occurrences of a specific character. In the following example, the pattern places it after the **\"\\d\"** symbol to find matches to one or more occurrences of a single digit:"
      ],
      "metadata": {
        "id": "fe-KnFkAwphy"
      }
    },
    {
      "cell_type": "code",
      "source": [
        "import re\n",
        "\n",
        "re.findall(\"\\d+\", \"h32rb17\")\n",
        "\n"
      ],
      "metadata": {
        "colab": {
          "base_uri": "https://localhost:8080/"
        },
        "id": "jHimf9LZwtNt",
        "outputId": "edd395c7-2b46-43cd-9119-122a5f0d42d4"
      },
      "execution_count": 17,
      "outputs": [
        {
          "output_type": "execute_result",
          "data": {
            "text/plain": [
              "['32', '17']"
            ]
          },
          "metadata": {},
          "execution_count": 17
        }
      ]
    },
    {
      "cell_type": "markdown",
      "source": [
        "With the regular expression **\"\\d+\"**, the list contains the two matches of \"32\" and \"17\".\n",
        "\n",
        "Another symbol used to quantify the number of occurrences is the * symbol. The * symbol represents zero, one, or more occurrences of a specific character. The following code substitutes the * symbol for the + used in the previous example. You can run it to examine the difference:"
      ],
      "metadata": {
        "id": "U8sZs1oSxSXH"
      }
    },
    {
      "cell_type": "code",
      "source": [
        "import re\n",
        "\n",
        "re.findall(\"\\d*\", \"h32rb17\")\n",
        "\n"
      ],
      "metadata": {
        "colab": {
          "base_uri": "https://localhost:8080/"
        },
        "id": "hS9hf6zVxZiP",
        "outputId": "4010a59b-fb68-4392-e03d-43d1a2f9388b"
      },
      "execution_count": 18,
      "outputs": [
        {
          "output_type": "execute_result",
          "data": {
            "text/plain": [
              "['', '32', '', '', '17', '']"
            ]
          },
          "metadata": {},
          "execution_count": 18
        }
      ]
    },
    {
      "cell_type": "markdown",
      "source": [
        "\n",
        "Because it also matches to zero occurrences, the list now contains empty strings for the characters that were not single digits.\n",
        "\n",
        "If you want to indicate a specific number of repetitions to allow, you can place this number in curly brackets ({ }) after the character or symbol. In the following example, the regular expression pattern \"\\d{2}\" instructs Python to return all matches of exactly two single digits in a row from a string of multiple device IDs:"
      ],
      "metadata": {
        "id": "TWzkjHnlxx1r"
      }
    },
    {
      "cell_type": "code",
      "source": [
        "import re\n",
        "\n",
        "re.findall(\"\\d{2}\", \"h32rb17 k825t0m c2994eh\")\n",
        "\n"
      ],
      "metadata": {
        "colab": {
          "base_uri": "https://localhost:8080/"
        },
        "id": "IU8zkFq8xzH8",
        "outputId": "38a8cf04-bcec-480b-e1b5-471aaa0b4bca"
      },
      "execution_count": 19,
      "outputs": [
        {
          "output_type": "execute_result",
          "data": {
            "text/plain": [
              "['32', '17', '82', '29', '94']"
            ]
          },
          "metadata": {},
          "execution_count": 19
        }
      ]
    },
    {
      "cell_type": "markdown",
      "source": [
        "\n",
        "Because it is matching to two repetitions, when Python encounters a single digit, it checks whether there is another one following it. If there is, Python adds the two digits to the list and goes on to the next digit. If there isn't, it proceeds to the next digit without adding the first digit to the list.\n",
        "\n",
        "**Note:** Python scans strings left-to-right when matching against a regular expression. When Python finds a part of the string that matches the first expected character defined in the regular expression, it continues to compare the subsequent characters to the expected pattern. When the pattern is complete, it starts this process again. So in cases in which three digits appear in a row, it handles the third digit as a new starting digit.\n",
        "\n",
        "You can also specify a range within the curly brackets by separating two numbers with a comma. The first number is the minimum number of repetitions and the second number is the maximum number of repetitions. The following example returns all matches that have between one and three repetitions of a single digit:"
      ],
      "metadata": {
        "id": "LcfElV3zyQRf"
      }
    },
    {
      "cell_type": "code",
      "source": [
        "import re\n",
        "\n",
        "re.findall(\"\\d{1,3}\", \"h32rb17 k825t0m c2994eh\")\n",
        "\n"
      ],
      "metadata": {
        "colab": {
          "base_uri": "https://localhost:8080/"
        },
        "id": "nyfGDvJJyRsn",
        "outputId": "f0b18b94-546a-46f5-c0d0-84896dc7e384"
      },
      "execution_count": 20,
      "outputs": [
        {
          "output_type": "execute_result",
          "data": {
            "text/plain": [
              "['32', '17', '825', '0', '299', '4']"
            ]
          },
          "metadata": {},
          "execution_count": 20
        }
      ]
    },
    {
      "cell_type": "markdown",
      "source": [
        "\n",
        "The returned list contains elements of one digit like \"0\", two digits like \"32\" and three digits like \"825\".\n",
        "\n",
        "### Constructing a pattern\n",
        "\n",
        "Constructing a regular expression requires you to break down the pattern you're searching for into smaller chunks and represent those chunks using the symbols you've learned. Consider an example of a string that contains multiple pieces of information about employees at an organization. For each employee, the following string contains their employee ID, their username followed by a colon (:), their attempted logins for the day, and their department:\n",
        "\n",
        "employee_logins_string = \"1001 bmoreno: 12 Marketing 1002 tshah: 7 Human Resources 1003 sgilmore: 5 Finance\"\n",
        "\n",
        "Your task is to extract the username and the login attempts, without the employee's ID number or department.\n",
        "\n",
        "To complete this task with regular expressions, you need to break down what you're searching for into smaller components. In this case, those components are the varying number of characters in a username, a colon, a space, and a varying number of single digits. The corresponding regular expression symbols are \\w+, :, \\s, and \\d+ respectively. Using these symbols as your regular expression, you can run the following code to extract the strings:"
      ],
      "metadata": {
        "id": "727WNAmiyqme"
      }
    },
    {
      "cell_type": "code",
      "source": [
        "import re\n",
        "pattern = \"\\w+:\\s\\d+\"\n",
        "employee_logins_string = \"1001 bmoreno: 12 Marketing 1002 tshah: 7 human Resourses 1003 sgilmore: 5 finance\"\n",
        "\n",
        "print(re.findall(pattern, employee_logins_string))\n",
        "\n"
      ],
      "metadata": {
        "colab": {
          "base_uri": "https://localhost:8080/"
        },
        "id": "ED-UUso0yuQw",
        "outputId": "a2425c8f-c85c-43a5-e2c3-ef59d370290a"
      },
      "execution_count": 21,
      "outputs": [
        {
          "output_type": "stream",
          "name": "stdout",
          "text": [
            "['bmoreno: 12', 'tshah: 7', 'sgilmore: 5']\n"
          ]
        }
      ]
    },
    {
      "cell_type": "markdown",
      "source": [
        "\n",
        "**Note:** Working with regular expressions can carry the risk of returning unneeded information or excluding strings that you want to return. Therefore, it's useful to test your regular expressions.\n",
        "\n",
        "## Key takeaways\n",
        "\n",
        "Regular expressions allow you to search through strings to find matches to specific patterns. You can use regular expressions by importing the re module. This module contains multiple functions, including re.findall(), which returns all matches to a pattern in the form of a list. To form a pattern, you use characters and symbols. Symbols allow you to specify types of characters and to quantify how many repetitions of a character or type of character can occur in the pattern."
      ],
      "metadata": {
        "id": "QOPw5tQkzpt8"
      }
    }
  ]
}