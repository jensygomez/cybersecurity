{
 "cells": [
  {
   "cell_type": "markdown",
   "id": "681ca42e-ecde-4c6c-8193-0fac92c5e0fe",
   "metadata": {},
   "source": [
    "# Work with files in Python\n",
    "\n",
    "You previously explored how to open files in Python as well as how to read them and write to them. You also examined how to adjust the structure of file contents through the **.split()** method. In this reading, you'll review the **.split()** method, and you'll also learn an additional method that can help you work with file contents.\n",
    "\n",
    "## Parsing\n",
    "\n",
    "Part of working with files involves structuring its contents to meet your needs. **Parsing** is the process of converting data into a more readable format. Data may need to become more readable in a couple of different ways. First, certain parts of your Python code may require modification into a specific format. By converting data into this format, you enable Python to process it in a specific way. Second, programmers need to read and interpret the results of their code, and parsing can also make the data more readable for them.\n",
    "\n",
    "Methods that can help you parse your data include **.split()** and **.join()**.\n",
    "\n",
    "## .split()\n",
    "\n",
    "### **The basics of .split()**\n",
    "\n",
    "The **.split()** method converts a string into a list. It separates the string based on a specified character that's passed into **.split()** as an argument.\n",
    "\n",
    "In the following example, the usernames in the **approved_users** string are separated by a comma. For this reason, a string containing the comma **(\",\")** is passed into **.split()** in order to parse it into a list. Run this code and analyze the different contents of **approved_users** before and after the **.split()** method is applied to it:"
   ]
  },
  {
   "cell_type": "code",
   "execution_count": null,
   "id": "034285c9-8e7d-4266-98f3-b2d14a55824b",
   "metadata": {},
   "outputs": [],
   "source": []
  },
  {
   "cell_type": "code",
   "execution_count": 1,
   "id": "3bd280f7-c29e-44fb-92e5-4ae7ff1aa7ec",
   "metadata": {},
   "outputs": [
    {
     "name": "stdout",
     "output_type": "stream",
     "text": [
      "before .split(): elarson,bmoreno,tshah,sgilmore,eraab\n",
      "after .split(): ['elarson', 'bmoreno', 'tshah', 'sgilmore', 'eraab']\n"
     ]
    }
   ],
   "source": [
    "approved_users = \"elarson,bmoreno,tshah,sgilmore,eraab\"\n",
    "print(\"before .split():\", approved_users)\n",
    "approved_users = approved_users.split(\",\")\n",
    "print(\"after .split():\", approved_users)"
   ]
  },
  {
   "cell_type": "code",
   "execution_count": null,
   "id": "72d506fd-7558-4512-81fa-7198fe71ed67",
   "metadata": {},
   "outputs": [],
   "source": []
  },
  {
   "cell_type": "markdown",
   "id": "1667ef21-fc86-4b1c-afa4-6a3b1b6926c4",
   "metadata": {},
   "source": [
    "\n",
    "Before the **.split()** method is applied to **approved_users**, it contains a string, but after it is applied, this string is converted to a list.\n",
    "\n",
    "If you do not pass an argument into **.split()**, it will separate the string every time it encounters a whitespace.\n",
    "\n",
    "**Note:** A variety of characters are considered whitespaces by Python. These characters include spaces between characters, returns for new lines, and others.\n",
    "\n",
    "The following example demonstrates how a string of usernames that are separated by space can be split into a list through the **.split()** method:"
   ]
  },
  {
   "cell_type": "code",
   "execution_count": null,
   "id": "3fb2bfdf-be2b-4ec5-b9f7-264e00e1da0b",
   "metadata": {},
   "outputs": [],
   "source": []
  },
  {
   "cell_type": "code",
   "execution_count": 2,
   "id": "f6e7d2a9-9b05-4b42-bf5d-090cf2ac3487",
   "metadata": {},
   "outputs": [
    {
     "name": "stdout",
     "output_type": "stream",
     "text": [
      "before .split(): wjaffrey jsoto abernard jhill awilliam\n",
      "after .split(): ['wjaffrey', 'jsoto', 'abernard', 'jhill', 'awilliam']\n"
     ]
    }
   ],
   "source": [
    "removed_users = \"wjaffrey jsoto abernard jhill awilliam\"\n",
    "print(\"before .split():\", removed_users)\n",
    "removed_users = removed_users.split()\n",
    "print(\"after .split():\", removed_users)"
   ]
  },
  {
   "cell_type": "code",
   "execution_count": null,
   "id": "8f3e3249-4dc4-4620-bcaa-e038fc93b761",
   "metadata": {},
   "outputs": [],
   "source": []
  },
  {
   "cell_type": "markdown",
   "id": "9de62fb8-ce04-433a-aef8-63a16b0b76ca",
   "metadata": {},
   "source": [
    "\n",
    "Because an argument isn't passed into **.split()**, Python splits the **removed_users** string at each space when separating it into a list.\n",
    "\n",
    "### **Applying .split() to files**\n",
    "\n",
    "The **.split()** method allows you to work with file content as a list after you've converted it to a string through the **.read()** method. This is useful in a variety of ways. For example, if you want to iterate through the file contents in a for loop, this can be easily done when it's converted into a list.\n",
    "\n",
    "The following code opens the **\"update_log.txt\"** file. It then reads all of the file contents into the updates variable as a string and splits the string in the **updates** variable into a list by creating a new element at each whitespace:"
   ]
  },
  {
   "cell_type": "code",
   "execution_count": null,
   "id": "eb8a054f-00c1-4201-9767-1a55fbc19555",
   "metadata": {},
   "outputs": [],
   "source": []
  },
  {
   "cell_type": "code",
   "execution_count": null,
   "id": "a479f926-846b-4c37-a87c-2e99c89d4116",
   "metadata": {},
   "outputs": [],
   "source": [
    "with open(\"update_log.txt\", \"r\") as file:\n",
    "    updates = file.read()\n",
    "updates = updates.split()"
   ]
  },
  {
   "cell_type": "code",
   "execution_count": null,
   "id": "1cade8f5-bc7b-4566-8ca6-a76fd989ef21",
   "metadata": {},
   "outputs": [],
   "source": []
  },
  {
   "cell_type": "markdown",
   "id": "5382b0a5-dae5-4bfc-ab93-1940fc6b66ae",
   "metadata": {},
   "source": [
    "\n",
    "After this, through the updates variable, you can work with the contents of the \"update_log.txt\" file in parts of your code that require it to be structured as a list.\n",
    "\n",
    "**Note:** Because  the line that contains .split() is not indented as part of the with statement, the file closes first. Closing a file as soon as it is no longer needed helps maintain code readability. Once a file is read into the updates variable, it is not needed and can be closed.\n",
    "\n",
    "## .join()\n",
    "\n",
    "### **The basics of .join()**\n",
    "\n",
    "If you need to convert a list into a string, there is also a method for that. The .join() method concatenates the elements of an iterable into a string. The syntax used with .join() is distinct from the syntax used with .split() and other methods that you've worked with, such as .index().\n",
    "\n",
    "In methods like .split() or .index(), you append the method to the string or list that you're working with and then pass in other arguments. For example, the code usernames.index(2), appends the .index() method to the variable usernames, which contains a list. It passes in 2 as the argument to indicate which element to return.\n",
    "\n",
    "However, with .join(), you must pass the list that you want to concatenate into a string in as an argument. You append .join() to a character that you want to separate each element with once they are joined into a string.\n",
    "\n",
    "For example, in the following code, the approved_users variable contains a list. If you want to join that list into a string and separate each element with a comma, you can use \",\".join(approved_users). Run the code and examine what it returns:"
   ]
  },
  {
   "cell_type": "code",
   "execution_count": null,
   "id": "a25cd140-4667-43ad-8a94-8c8357960205",
   "metadata": {},
   "outputs": [],
   "source": []
  },
  {
   "cell_type": "code",
   "execution_count": null,
   "id": "da00bbe1-1ad6-4cae-b5d7-6a702e2867de",
   "metadata": {},
   "outputs": [],
   "source": [
    "approved_users = [\"elarson\", \"bmoreno\", \"tshah\", \"sgilmore\", \"eraab\"]\n",
    "print(\"before .join():\", approved_users)\n",
    "approved_users = \",\".join(approved_users)\n",
    "print(\"after .join():\", approved_users)"
   ]
  },
  {
   "cell_type": "code",
   "execution_count": null,
   "id": "6390b1f6-098e-4f29-a57e-5f101ab09cd8",
   "metadata": {},
   "outputs": [],
   "source": []
  },
  {
   "cell_type": "markdown",
   "id": "f0f809ff-759c-4b9b-8a4a-698665f24771",
   "metadata": {},
   "source": [
    "\n",
    "Before .join() is applied, approved_users is a list of five elements. After it is applied, it is a string with each username separated by a comma.\n",
    "\n",
    "**Note**: Another way to separate elements when using the .join() method is to use \"\\n\", which is the newline character. The \"\\n\" character indicates to separate the elements by placing them on new lines.\n",
    "\n",
    "### **Applying .join() to files**\n",
    "\n",
    "When working with files, it may also be necessary to convert its contents back into a string. For example, you may want to use the .write() method. The .write() method writes string data to a file. This means that if you have converted a file's contents into a list while working with it, you'll need to convert it back into a string before using .write(). You can use the .join() method for this.\n",
    "\n",
    "You already examined how .split() could be applied to the contents of the \"update_log.txt\" file once it is converted into a string through .read() and stored as updates:"
   ]
  },
  {
   "cell_type": "code",
   "execution_count": null,
   "id": "5a07de26-3109-4686-b758-bb3f9392c03e",
   "metadata": {},
   "outputs": [],
   "source": []
  },
  {
   "cell_type": "code",
   "execution_count": null,
   "id": "2a89311d-39ea-48ee-8331-bbdce5d76f20",
   "metadata": {},
   "outputs": [],
   "source": [
    "with open(\"update_log.txt\", \"r\") as file:\n",
    "    updates = file.read()\n",
    "updates = updates.split()"
   ]
  },
  {
   "cell_type": "code",
   "execution_count": null,
   "id": "c8845cab-7b3a-4418-94c0-8a10f5c23f97",
   "metadata": {},
   "outputs": [],
   "source": []
  },
  {
   "cell_type": "markdown",
   "id": "69ada649-ea50-402a-8c0a-2606c91eb9b4",
   "metadata": {},
   "source": [
    "After you're through performing operations using the list in the updates variable, you might want to replace \"update_log.txt\" with the new contents. To do so, you need to first convert updates back into a string using .join(). Then, you can open the file using a with statement and use the .write() method to write the updates string to the file:"
   ]
  },
  {
   "cell_type": "code",
   "execution_count": null,
   "id": "52182fca-184d-4735-8d33-83b7f2b85301",
   "metadata": {},
   "outputs": [],
   "source": []
  },
  {
   "cell_type": "code",
   "execution_count": null,
   "id": "de7b4b60-b915-487d-90c4-5b4dbb6b8282",
   "metadata": {},
   "outputs": [],
   "source": [
    "updates = \" \".join(updates)\n",
    "with open(\"update_log.txt\", \"w\") as file:\n",
    "    file.write(updates)"
   ]
  },
  {
   "cell_type": "code",
   "execution_count": null,
   "id": "90ca70e3-c100-48c4-9eb9-c350d6513d36",
   "metadata": {},
   "outputs": [],
   "source": []
  },
  {
   "cell_type": "markdown",
   "id": "392b2b06-6c92-44e1-8f09-2264d76fa71c",
   "metadata": {},
   "source": [
    "\n",
    "The code \" \".join(updates) indicates to separate each of the list elements in updates with a space once joined back into a string. And because \"w\" is specified as the second argument of open(), Python will overwrite the contents of \"update_log.txt\" with the string currently in the updates variable.\n",
    "\n",
    "## Key takeaways\n",
    "\n",
    "An important element of working with files is being able to parse the data it contains. Parsing means converting the data into a readable format. The .split() and .join() methods are both useful for parsing data. The .split() method allows you to convert a string into a list, and the .join() method allows you to convert a list into a string."
   ]
  }
 ],
 "metadata": {
  "kernelspec": {
   "display_name": "Python 3 (ipykernel)",
   "language": "python",
   "name": "python3"
  },
  "language_info": {
   "codemirror_mode": {
    "name": "ipython",
    "version": 3
   },
   "file_extension": ".py",
   "mimetype": "text/x-python",
   "name": "python",
   "nbconvert_exporter": "python",
   "pygments_lexer": "ipython3",
   "version": "3.11.7"
  }
 },
 "nbformat": 4,
 "nbformat_minor": 5
}
