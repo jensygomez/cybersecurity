{
 "cells": [
  {
   "cell_type": "markdown",
   "id": "427de81e-2a3e-4597-bf6d-7ded0f366112",
   "metadata": {},
   "source": [
    "\n",
    "# Explore debugging techniques\n",
    "\n",
    "Previously, you examined three types of errors you may encounter while working in Python and explored strategies for debugging these errors. This reading further explores these concepts with additional strategies and examples for debugging Python code.\n",
    "\n",
    "## Types of errors\n",
    "\n",
    "It's a normal part of developing code in Python to get error messages or find that the code you're running isn't working as you intended. The important thing is that you can figure out how to fix errors when they occur. Understanding the three main types of errors can help. These types include syntax errors, logic errors, and exceptions.\n",
    "\n",
    "### **Syntax errors**\n",
    "\n",
    "A **syntax error** is an error that involves invalid usage of a programming language. Syntax errors occur when there is a mistake with the Python syntax itself. Common examples of syntax errors include forgetting a punctuation mark, such as a closing bracket for a list or a colon after a function header.\n",
    "\n",
    "When you run code with syntax errors, the output will identify the location of the error with the line number and a portion of the affected code. It also describes the error. Syntax errors often begin with the label \"SyntaxError:\" . Then, this is followed by a description of the error. The description might simply be \"invalid syntax\" . Or if you forget a closing parentheses on a function, the description might be \"unexpected EOF while parsing\". \"EOF\" stands for \"end of file.\"\n",
    "\n",
    "The following code contains a syntax error. Run it and examine its output:"
   ]
  },
  {
   "cell_type": "code",
   "execution_count": null,
   "id": "e4ea2f2a-2f29-45b8-97fb-ab74dac56da5",
   "metadata": {},
   "outputs": [],
   "source": []
  },
  {
   "cell_type": "code",
   "execution_count": 2,
   "id": "cc3040fe-53a6-4784-84a6-23e3090eaea1",
   "metadata": {},
   "outputs": [
    {
     "ename": "SyntaxError",
     "evalue": "unterminated string literal (detected at line 1) (2621567672.py, line 1)",
     "output_type": "error",
     "traceback": [
      "\u001b[0;36m  Cell \u001b[0;32mIn[2], line 1\u001b[0;36m\u001b[0m\n\u001b[0;31m    message = \"You are debugging a syntax error\u001b[0m\n\u001b[0m              ^\u001b[0m\n\u001b[0;31mSyntaxError\u001b[0m\u001b[0;31m:\u001b[0m unterminated string literal (detected at line 1)\n"
     ]
    }
   ],
   "source": [
    "message = \"You are debugging a syntax error\n",
    "print(message)"
   ]
  },
  {
   "cell_type": "code",
   "execution_count": null,
   "id": "c7792a31-1d76-4927-b883-58e7fd03c97c",
   "metadata": {},
   "outputs": [],
   "source": []
  },
  {
   "cell_type": "markdown",
   "id": "9fa1fc25-0c0c-4d6c-9427-e03d56e66a1e",
   "metadata": {},
   "source": [
    "\n",
    "This outputs the message \"SyntaxError: EOL while scanning string literal\". \"EOL\" stands for \"end of line\". The error message also indicates that the error happens on the first line. The error occurred because a quotation mark was missing at the end of the string on the first line. You can fix it by adding that quotation mark.\n",
    "\n",
    "**Note:** You will sometimes encounter the error label \"IndentationError\" instead of \"SyntaxError\". \"IndentationError\" is a subclass of \"SyntaxError\" that occurs when the indentation used with a line of code is not syntactically correct.\n",
    "\n",
    "### **Logic errors**\n",
    "\n",
    "A **logic error** is an error that results when the logic used in code produces unintended results. Logic errors may not produce error messages. In other words, the code will not do what you expect it to do, but it is still valid to the interpreter.\n",
    "\n",
    "For example, using the wrong logical operator, such as a greater than or equal to sign (>=) instead of greater than sign (>) can result in a logic error. Python will not evaluate a condition as you intended. However, the code is valid, so it will run without an error message.\n",
    "\n",
    "The following example outputs a message related to whether or not a user has reached a maximum number of five login attempts. The condition in the if statement should be login_attempts < 5, but it is written as login_attempts >= 5. A value of 5 has been assigned to login_attempts so that you can explore what it outputs in that instance:"
   ]
  },
  {
   "cell_type": "code",
   "execution_count": null,
   "id": "3a28cedc-1d27-4a08-a192-6aad82da5ef4",
   "metadata": {},
   "outputs": [],
   "source": []
  },
  {
   "cell_type": "code",
   "execution_count": 3,
   "id": "d46695e4-110b-4c0d-8e15-3b9bd284781a",
   "metadata": {},
   "outputs": [
    {
     "name": "stdout",
     "output_type": "stream",
     "text": [
      "User has not reached maximum number of login attempts.\n"
     ]
    }
   ],
   "source": [
    "login_attempts = 5\n",
    "if login_attempts >= 5:\n",
    "    print(\"User has not reached maximum number of login attempts.\")\n",
    "else:\n",
    "    print(\"User has reached maximum number of login attempts.\")"
   ]
  },
  {
   "cell_type": "code",
   "execution_count": null,
   "id": "36426d38-eb2f-41cd-8774-afdfc7f239c0",
   "metadata": {},
   "outputs": [],
   "source": []
  },
  {
   "cell_type": "markdown",
   "id": "b3b3e546-811a-4dcd-880e-16811a0f13a9",
   "metadata": {},
   "source": [
    "\n",
    "The output displays the message \"User has not reached maximum number of login attempts.\" However, this is not true since the maximum number of login attempts is five. This is a logic error.\n",
    "\n",
    "Logic errors can also result when you assign the wrong value in a condition or when a mistake with indentation means that a line of code executes in a way that was not planned.\n",
    "\n",
    "### **Exceptions**\n",
    "\n",
    "An **exception** is an error that involves code that cannot be executed even though it is syntactically correct. This happens for a variety of reasons.\n",
    "\n",
    "One common cause of an exception is when the code includes a variable that hasn't been assigned or a function that hasn't been defined. In this case, your output will include \"NameError\" to indicate that this is a name error. After you run the following code, use the error message to determine which variable was not assigned:"
   ]
  },
  {
   "cell_type": "code",
   "execution_count": null,
   "id": "5bd07f23-7113-4d25-8157-d9089c6699ff",
   "metadata": {},
   "outputs": [],
   "source": []
  },
  {
   "cell_type": "code",
   "execution_count": 4,
   "id": "b8713ce4-e457-4ae1-9b25-8c08cf97ffa1",
   "metadata": {},
   "outputs": [
    {
     "name": "stdout",
     "output_type": "stream",
     "text": [
      "Login report for elarson in March\n",
      "Total logins: 75\n",
      "Failed logins: 18\n"
     ]
    },
    {
     "ename": "NameError",
     "evalue": "name 'unusual_logins' is not defined",
     "output_type": "error",
     "traceback": [
      "\u001b[0;31m---------------------------------------------------------------------------\u001b[0m",
      "\u001b[0;31mNameError\u001b[0m                                 Traceback (most recent call last)",
      "Cell \u001b[0;32mIn[4], line 8\u001b[0m\n\u001b[1;32m      6\u001b[0m \u001b[38;5;28mprint\u001b[39m(\u001b[38;5;124m\"\u001b[39m\u001b[38;5;124mTotal logins:\u001b[39m\u001b[38;5;124m\"\u001b[39m, total_logins)\n\u001b[1;32m      7\u001b[0m \u001b[38;5;28mprint\u001b[39m(\u001b[38;5;124m\"\u001b[39m\u001b[38;5;124mFailed logins:\u001b[39m\u001b[38;5;124m\"\u001b[39m, failed_logins)\n\u001b[0;32m----> 8\u001b[0m \u001b[38;5;28mprint\u001b[39m(\u001b[38;5;124m\"\u001b[39m\u001b[38;5;124mUnusual logins:\u001b[39m\u001b[38;5;124m\"\u001b[39m, \u001b[43munusual_logins\u001b[49m)\n",
      "\u001b[0;31mNameError\u001b[0m: name 'unusual_logins' is not defined"
     ]
    }
   ],
   "source": [
    "username = \"elarson\"\n",
    "month = \"March\"\n",
    "total_logins = 75\n",
    "failed_logins = 18\n",
    "print(\"Login report for\", username, \"in\", month)\n",
    "print(\"Total logins:\", total_logins)\n",
    "print(\"Failed logins:\", failed_logins)\n",
    "print(\"Unusual logins:\", unusual_logins)"
   ]
  },
  {
   "cell_type": "code",
   "execution_count": null,
   "id": "e8d91ce0-c1a5-462a-abec-b50a42a95995",
   "metadata": {},
   "outputs": [],
   "source": []
  },
  {
   "cell_type": "markdown",
   "id": "85132c8b-4cf8-4671-8096-05dc93ed6e13",
   "metadata": {},
   "source": [
    "\n",
    "The output indicates there is a \"NameError\" involving the unusual_logins variable. You can fix this by assigning this variable a value.\n",
    "\n",
    "In addition to name errors, the following messages are output for other types of exceptions:\n",
    "\n",
    "-   \"IndexError\": An index error occurs when you place an index in bracket notation that does not exist in the sequence being referenced. For example, in the list usernames = [\"bmoreno\", \"tshah\", \"elarson\"], the indices are 0, 1, and 2. If you referenced this list with the statement print(usernames[3]), this would result in an index error.\n",
    "    \n",
    "-   \"TypeError\": A type error results from using the wrong data type. For example, if you tried to perform a mathematical calculation by adding a string value to an integer, you would get a type error.\n",
    "    \n",
    "-   \"FileNotFound\": A file not found error occurs when you try to open a file that does not exist in the specified location.\n",
    "    \n",
    "\n",
    "## Debugging strategies\n",
    "\n",
    "Keep in mind that if you have multiple errors, the Python interpreter will output error messages one at a time, starting with the first error it encounters. After you fix that error and run the code again, the interpreter will output another message for the next syntax error or exception it encounters.\n",
    "\n",
    "When dealing with syntax errors, the error messages you receive in the output will generally help you fix the error. However, with logic errors and exceptions, additional strategies may be needed.\n",
    "\n",
    "### **Debuggers**\n",
    "\n",
    "In this course, you have been running code in a notebook environment. However, you may write Python code in an Integrated Development Environment (IDE). An **Integrated Development Environment (IDE)** is a software application for writing code that provides editing assistance and error correction tools. Many IDEs offer error detection tools in the form of a debugger. A **debugger** is a software tool that helps to locate the source of an error and assess its causes.\n",
    "\n",
    "In cases when you can't find the line of code that is causing the issue, debuggers help you narrow down the source of the error in your program. They do this by working with breakpoints. Breakpoints are markers placed on certain lines of executable code that indicate which sections of code should run when debugging.\n",
    "\n",
    "Some debuggers also have a feature that allows you to check the values stored in variables as they change throughout your code. This is especially helpful for logic errors so that you can locate where variable values have unintentionally changed.\n",
    "\n",
    "### **Use print statements**\n",
    "\n",
    "Another debugging strategy is to incorporate temporary print statements that are designed to identify the source of the error. You should strategically incorporate these print statements to print at various locations in the code. You can specify line numbers as well as descriptive text about the location.\n",
    "\n",
    "For example, you may have code that is intended to add new users to an approved list and then display the approved list. The code should not add users that are already on the approved list. If you analyze the output of this code after you run it, you will realize that there is a logic error:"
   ]
  },
  {
   "cell_type": "code",
   "execution_count": null,
   "id": "28d87fea-9f6c-476b-9581-1fbb2c2d3d76",
   "metadata": {},
   "outputs": [],
   "source": []
  },
  {
   "cell_type": "code",
   "execution_count": 5,
   "id": "8760e921-b61c-4b9b-8719-e5f2474cdf01",
   "metadata": {},
   "outputs": [
    {
     "name": "stdout",
     "output_type": "stream",
     "text": [
      "bmoreno already in list\n",
      "['bmoreno', 'tshah', 'elarson', 'sgilmore', 'bmoreno']\n"
     ]
    }
   ],
   "source": [
    "new_users = [\"sgilmore\", \"bmoreno\"]\n",
    "approved_users = [\"bmoreno\", \"tshah\", \"elarson\"]\n",
    "def add_users():\n",
    "    for user in new_users:\n",
    "        if user in approved_users:\n",
    "            print(user,\"already in list\")\n",
    "        approved_users.append(user)\n",
    "add_users()\n",
    "print(approved_users)"
   ]
  },
  {
   "cell_type": "code",
   "execution_count": null,
   "id": "4aeadccf-a108-4d72-9a45-f73e6e783934",
   "metadata": {},
   "outputs": [],
   "source": []
  },
  {
   "cell_type": "markdown",
   "id": "46dd3936-817e-42b2-96a4-0d0b351c7549",
   "metadata": {},
   "source": [
    "\n",
    "Even though you get the message \"bmoreno already in list\", a second instance of \"bmoreno\" is added to the list. In the following code, print statements have been added to the code. When you run it, you can examine what prints:"
   ]
  },
  {
   "cell_type": "code",
   "execution_count": null,
   "id": "2767bcc0-621b-4d8a-b05a-fa8bc02deedd",
   "metadata": {},
   "outputs": [],
   "source": []
  },
  {
   "cell_type": "code",
   "execution_count": 6,
   "id": "bef296ac-5e4f-4139-b5a1-5e2b9de759b6",
   "metadata": {},
   "outputs": [
    {
     "name": "stdout",
     "output_type": "stream",
     "text": [
      "line 5 - inside for loop\n",
      "line 9 - before .append method\n",
      "line 5 - inside for loop\n",
      "line 7 - inside if statement\n",
      "bmoreno already in list\n",
      "line 9 - before .append method\n",
      "['bmoreno', 'tshah', 'elarson', 'sgilmore', 'bmoreno']\n"
     ]
    }
   ],
   "source": [
    "new_users = [\"sgilmore\", \"bmoreno\"]\n",
    "approved_users = [\"bmoreno\", \"tshah\", \"elarson\"]\n",
    "def add_users():\n",
    "    for user in new_users:\n",
    "        print(\"line 5 - inside for loop\")\n",
    "        if user in approved_users:\n",
    "            print(\"line 7 - inside if statement\")\n",
    "            print(user,\"already in list\")\n",
    "        print(\"line 9 - before .append method\")\n",
    "        approved_users.append(user)\n",
    "add_users()\n",
    "print(approved_users)"
   ]
  },
  {
   "cell_type": "code",
   "execution_count": null,
   "id": "f103d820-d200-4051-b95c-5f3f443e546f",
   "metadata": {},
   "outputs": [],
   "source": []
  },
  {
   "cell_type": "markdown",
   "id": "870d5e63-bff9-48fc-9e13-b0f0176c4df0",
   "metadata": {},
   "source": [
    "The print statement \"line 5 - inside for loop\" outputs twice, indicating that Python has entered the for loop for each username in new_users. This is as expected. Additionally, the print statement \"line 7 - inside if statement\" only outputs once, and this is also as expected because only one of these usernames was already in approved_users.\n",
    "\n",
    "However, the print statement \"line 9 - before .append method\" outputs twice. This means the code calls the .append() method for both usernames even though one is already in approved_users. This helps isolate the logic error to this area. This can help you realize that the line of code approved_users.append(user) should be the body of an else statement so that it only executes when user is not in approved_users.\n",
    "\n",
    "## Key takeaways\n",
    "\n",
    "There are three main types of errors you'll encounter while coding in Python. Syntax errors involve invalid usage of the programming language. Logic errors occur when the logic produced in the code produces unintended results. Exceptions involve code that cannot be executed even though it is syntactically correct. You will receive error messages for syntax errors and exceptions that can help you fix these mistakes. Additionally, using debuggers and inserting print statements can help you identify logic errors and further debug exceptions."
   ]
  }
 ],
 "metadata": {
  "kernelspec": {
   "display_name": "Python 3 (ipykernel)",
   "language": "python",
   "name": "python3"
  },
  "language_info": {
   "codemirror_mode": {
    "name": "ipython",
    "version": 3
   },
   "file_extension": ".py",
   "mimetype": "text/x-python",
   "name": "python",
   "nbconvert_exporter": "python",
   "pygments_lexer": "ipython3",
   "version": "3.11.7"
  }
 },
 "nbformat": 4,
 "nbformat_minor": 5
}
