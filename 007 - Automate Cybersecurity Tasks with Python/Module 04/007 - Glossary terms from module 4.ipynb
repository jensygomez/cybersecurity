{
 "cells": [
  {
   "cell_type": "markdown",
   "id": "fdcaf7b9-835d-4527-930a-540989192209",
   "metadata": {},
   "source": [
    "\n",
    "# Glossary terms from module 4\n",
    "\n",
    "## **Terms and definitions from Course 7, Module 4**\n",
    "\n",
    "**Automation:** The use of technology to reduce human and manual effort to perform common and repetitive tasks\n",
    "\n",
    "**Conditional statement:** A statement that evaluates code to determine if it meets a specified set of conditions\n",
    "\n",
    "**Debugger:** A software tool that helps to locate the source of an error and assess its causes\n",
    "\n",
    "**Debugging:** The practice of identifying and fixing errors in code\n",
    "\n",
    "**Exception:** An error that involves code that cannot be executed even though it is syntactically correct\n",
    "\n",
    "**File path:** The location of a file or directory\n",
    "\n",
    "**Function:** A section of code that can be reused in a program\n",
    "\n",
    "**Integrated development environment (IDE):** A software application for writing code that provides editing assistance and error correction tools\n",
    "\n",
    "**Iterative statement:** Code that repeatedly executes a set of instructions\n",
    "\n",
    "**Log:** A record of events that occur within an organization's systems\n",
    "\n",
    "**Logic error:** An error that results when the logic used in code produces unintended results\n",
    "\n",
    "**Parsing:** The process of converting data into a more readable format\n",
    "\n",
    "**Syntax error:** An error that involves invalid usage of a programming language\n",
    "\n",
    "**Variable:** A container that stores data"
   ]
  }
 ],
 "metadata": {
  "kernelspec": {
   "display_name": "Python 3 (ipykernel)",
   "language": "python",
   "name": "python3"
  },
  "language_info": {
   "codemirror_mode": {
    "name": "ipython",
    "version": 3
   },
   "file_extension": ".py",
   "mimetype": "text/x-python",
   "name": "python",
   "nbconvert_exporter": "python",
   "pygments_lexer": "ipython3",
   "version": "3.11.7"
  }
 },
 "nbformat": 4,
 "nbformat_minor": 5
}
