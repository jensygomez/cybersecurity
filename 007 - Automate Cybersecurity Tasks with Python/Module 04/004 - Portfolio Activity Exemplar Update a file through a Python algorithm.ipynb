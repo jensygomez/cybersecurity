{
 "cells": [
  {
   "cell_type": "markdown",
   "id": "5efb3575-a539-4873-9902-e31d0a4d8288",
   "metadata": {},
   "source": [
    "# Portfolio Activity Exemplar: Update a file through a Python algorithm\n",
    "\n",
    "Here is a completed exemplar along with an explanation of how the exemplar fulfills the expectations for the activity.\n",
    "\n",
    "## Completed Exemplar\n",
    "\n",
    "![](https://d3c33hcgiwev3.cloudfront.net/imageAssetProxy.v1/3E9TBGgoTlCzEMWb3XGfUA_8ca55daec8d845f0b64ddee9232808f1_image.png?expiry=1707523200000&hmac=uMIra_82GxjDHC-h5nljKBFSQoe4ZRdiQuKC7wuwn3M)\n",
    "\n",
    "To review the exemplar for this course item, click the link and select _Use Template_.\n",
    "\n",
    "Link to exemplar: [Update a file through a Python algorithm](https://docs.google.com/document/d/1Ra0_gH1l0Pd8-APMg9W_YRMG5UYqJ81ANLRPdZc2qQA/template/preview?resourcekey=0-WZDMIQTlAKDQ7yRhzf9NyA)\n",
    "\n",
    "OR\n",
    "\n",
    "If you don’t have a Google account, you can download the exemplar directly from the following attachment.\n",
    "\n",
    "[](https://d3c33hcgiwev3.cloudfront.net/82o_mzKDQ-24DW8zHNK_Ug_ab4202415d3c4110bb332ae35a5974f1_Exemplar---Update-a-file-through-a-Python-algorithm.docx?Expires=1707523200&Signature=ZFYRem0xVLP8zXiZSnK9SIL-FQuNSZ0eGD-zKBHh453IuxQYnLh~n5MyMBbFV-3S2Fc4M87FpL1vaifVXtoE7mNngXatcHqwGJ8toRtRPahiNO~OYXv6czpf3wf~PKfmOAVRm08o-c~x5MY5Ry~kXRQWf-zt3Jf~yweV9MsJoNM_&Key-Pair-Id=APKAJLTNE6QMUY6HBC5A)\n",
    "\n",
    "Exemplar - Update a file through a Python algorithm\n",
    "\n",
    "DOCX File\n",
    "\n",
    "## Assessment of Exemplar\n",
    "\n",
    "![](https://d3c33hcgiwev3.cloudfront.net/imageAssetProxy.v1/Y0-jahTYTiSrmiUMSmQ2xw_988dfb93ed144d71a7f41ab049f046f1_image.png?expiry=1707523200000&hmac=KDSf8Ag5sNXO6zdnq-vhYSxp1WkShbAo2lE8KETbpJg)\n",
    "\n",
    "Compare the exemplar to your completed Python portfolio activity. Focus on its examples and explanations of Python syntax, functions, and keywords and also on how it describes the project at the beginning and summarizes it at the end.\n",
    "\n",
    "Review your work using each of the criteria in the exemplar. What did you do well? Where can you improve? Use your answers to these questions to guide you as you continue to progress through the certificate program.\n",
    "\n",
    "_**Note:**_ _The exemplar represents one possible way to complete the Python portfolio activity. Your project will likely differ in certain ways. What’s important is that you understand how to use Python to update the contents of a file._\n",
    "\n",
    "![](https://d3c33hcgiwev3.cloudfront.net/imageAssetProxy.v1/jLtR0tl7T7SUEEcQyxC_Gw_fde1c631210441718dbfb5883e4a88f1_image.png?expiry=1707523200000&hmac=kPMECJY2zQOrv269-ktMlXLE9ioIFxFvYsDKjAipp5U)\n",
    "\n",
    "The exemplar uses details from the given scenario and includes the following:\n",
    "\n",
    "-   Screenshots of Python code or typed versions of the code\n",
    "    \n",
    "-   Explanations of the syntax, functions, and keywords in the code\n",
    "    \n",
    "-   A project description at the beginning\n",
    "    \n",
    "-   A summary at the end\n",
    "    \n",
    "-   Details on using a with statement and the open() function in the algorithm\n",
    "    \n",
    "-   Details on using the .read() and .write() methods in the algorithm\n",
    "    \n",
    "-   Details on using the .split() method in the algorithm\n",
    "    \n",
    "-   Details on using a for loop in the algorithm\n",
    "    \n",
    "-   Details on using the .remove() method in the algorithm"
   ]
  }
 ],
 "metadata": {
  "kernelspec": {
   "display_name": "Python 3 (ipykernel)",
   "language": "python",
   "name": "python3"
  },
  "language_info": {
   "codemirror_mode": {
    "name": "ipython",
    "version": 3
   },
   "file_extension": ".py",
   "mimetype": "text/x-python",
   "name": "python",
   "nbconvert_exporter": "python",
   "pygments_lexer": "ipython3",
   "version": "3.11.7"
  }
 },
 "nbformat": 4,
 "nbformat_minor": 5
}
