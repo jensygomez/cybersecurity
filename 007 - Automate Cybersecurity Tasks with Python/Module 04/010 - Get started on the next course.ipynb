{
 "cells": [
  {
   "cell_type": "markdown",
   "id": "00e9834f-9177-4e40-b768-fd1e8b675da3",
   "metadata": {},
   "source": [
    "\n",
    "# Get started on the next course\n",
    "\n",
    "Congratulations on completing Course 7 of the Google Cybersecurity Certificate: **Automate Cybersecurity Tasks with Python**! In this part of the program, you learned about writing effective Python code to automate cybersecurity tasks. You started with foundational components of the Python language, including data types, variables, conditional statements, and iterative statements. Then you built on those skills by learning how to incorporate functions into your code and work with string and list data. You also explored modules and libraries, as well as guidelines for improving your code’s readability. Finally, you used your Python skills to import and parse files and to develop algorithms that automate security tasks.\n",
    "\n",
    "The Google Cybersecurity Certificate has eight courses:\n",
    "\n",
    "![The titles of each of the eight courses with course seven highlighted](https://d3c33hcgiwev3.cloudfront.net/imageAssetProxy.v1/kzXMcZ4UTdWG3cKbn0d1rQ_667b00e9e3e54f4fac5055192cede9f1_S33G009.png?expiry=1707696000000&hmac=LVHXyuXETteliZkh3_Otc3VaufjKZYWi68aMx7q-zG4)\n",
    "\n",
    "1.  **Foundations of Cybersecurity** — Explore the cybersecurity profession, including significant events that led to the development of the cybersecurity field and its continued importance to organizational operations. Learn about entry-level cybersecurity roles and responsibilities.\n",
    "    \n",
    "2.  **Play It Safe: Manage Security Risks** — Identify how cybersecurity professionals use frameworks and controls to protect business operations, and explore common cybersecurity tools.\n",
    "    \n",
    "3.  **Connect and Protect: Networks and Network Security** — Gain an understanding of network-level vulnerabilities and how to secure networks.\n",
    "    \n",
    "4.  **Tools of the Trade: Linux and SQL** — Explore foundational computing skills, including communicating with the Linux operating system through the command line and querying databases with SQL.\n",
    "    \n",
    "5.  **Assets, Threats, and Vulnerabilities** — Learn about the importance of security controls and developing a threat actor mindset to protect and defend an organization’s assets from various threats, risks, and vulnerabilities.\n",
    "    \n",
    "6.  **Sound the Alarm: Detection and Response** — Understand the incident response lifecycle and practice using tools to detect and respond to cybersecurity incidents.\n",
    "    \n",
    "7.  **Automate Cybersecurity Tasks with Python** — Explore the Python programming language and write code to automate cybersecurity tasks. _(This is the course you just completed. Well done!)_\n",
    "    \n",
    "8.  **Put It to Work: Prepare for Cybersecurity Jobs** — Learn about incident classification, escalation, and ways to communicate with stakeholders. This course closes out the program with tips on how to engage with the cybersecurity community and prepare for your job search.\n",
    "    \n",
    "\n",
    "Now that you have completed this course, you’re ready to move on to the next course: [**Put It to Work: Prepare for Cybersecurity Jobs**.](https://www.coursera.org/learn/prepare-for-cybersecurity-jobs/home/week/1)\n",
    "\n",
    "Keep up the great work!"
   ]
  }
 ],
 "metadata": {
  "kernelspec": {
   "display_name": "Python 3 (ipykernel)",
   "language": "python",
   "name": "python3"
  },
  "language_info": {
   "codemirror_mode": {
    "name": "ipython",
    "version": 3
   },
   "file_extension": ".py",
   "mimetype": "text/x-python",
   "name": "python",
   "nbconvert_exporter": "python",
   "pygments_lexer": "ipython3",
   "version": "3.11.7"
  }
 },
 "nbformat": 4,
 "nbformat_minor": 5
}
