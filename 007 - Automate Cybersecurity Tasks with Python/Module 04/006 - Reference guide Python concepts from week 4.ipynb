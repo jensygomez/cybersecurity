{
 "cells": [
  {
   "cell_type": "markdown",
   "id": "2a5ed869-25bf-4a18-9d42-936e5a4758bc",
   "metadata": {},
   "source": [
    "\n",
    "# Reference guide: Python concepts from week 4\n",
    "\n",
    "This reference guide contains Python language introduced during week 4. The guide is organized into the following sections:\n",
    "\n",
    "-   File operations\n",
    "    \n",
    "-   Parsing\n",
    "    \n",
    "\n",
    "Within each section, items generally appear in the order they were introduced.\n",
    "\n",
    "## Access and save the guide\n",
    "\n",
    "You can save a copy of this guide for future reference. You can use it as a resource for additional practice or in your future professional projects.\n",
    "\n",
    "To access a downloadable version of this course item, click the following link and select _Use Template_.\n",
    "\n",
    "[Reference guide: Python concepts from module 4](https://docs.google.com/document/d/15_yAecscxD1TjNK9f4LvkO5GK2YEFGw2oQUG4LiucZ0/template/preview?resourcekey=0-NsP-xyVIzyeMO9PfANwjgQ \"reference guide on python concepts from module 4\")\n",
    "\n",
    "OR\n",
    "\n",
    "If you don’t have a Google account, you can download the item directly from the following attachment.\n",
    "\n",
    "[](https://d3c33hcgiwev3.cloudfront.net/4UnPASgPRFGFRFIudxf1_g_6266e5bd07e148868526c8e87f72a8f1_Python-concepts-from-module-4.pdf?Expires=1707696000&Signature=bj~ymOLB5B2svqNQ8kMZ7q0EacNXaR~fQM3DC-Ps3aFl~9KjYTGaNV~~sgdbHzSjoUpxqDBsknr5MtPEVOXXnUP7XCqm0y7O3EYP4tD6asXHaTojZbOaqQ7vgvmcKivvd1Jgfg6EijmwfLRKdH8zWcRMDXZs4YmLG9xN3TVE2-k_&Key-Pair-Id=APKAJLTNE6QMUY6HBC5A)\n",
    "\n",
    "Python concepts from module 4.pdf\n",
    "\n",
    "PDF File"
   ]
  }
 ],
 "metadata": {
  "kernelspec": {
   "display_name": "Python 3 (ipykernel)",
   "language": "python",
   "name": "python3"
  },
  "language_info": {
   "codemirror_mode": {
    "name": "ipython",
    "version": 3
   },
   "file_extension": ".py",
   "mimetype": "text/x-python",
   "name": "python",
   "nbconvert_exporter": "python",
   "pygments_lexer": "ipython3",
   "version": "3.11.7"
  }
 },
 "nbformat": 4,
 "nbformat_minor": 5
}
