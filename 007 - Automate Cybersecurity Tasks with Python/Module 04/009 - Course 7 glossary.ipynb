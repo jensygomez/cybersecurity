{
 "cells": [
  {
   "cell_type": "markdown",
   "id": "d8ac7de9-4223-4919-a1c8-b34062357668",
   "metadata": {},
   "source": [
    "\n",
    "# Course 7 glossary\n",
    "\n",
    "We’ve covered a lot of terms—some of which you may have already known, and some of which are new. To make it easy to remember what a word means, we created this glossary of terms and definitions.\n",
    "\n",
    "![](https://d3c33hcgiwev3.cloudfront.net/imageAssetProxy.v1/RZkggtjKTpSAlsAWGNOT_w_00b966b69377449e91b7e91bec4787f1_5tMk6a2uQvWTJOmtrrL1vA_bb1334a071f749898c0cdc801d81ac2b_graphic-line-right.png?expiry=1707696000000&hmac=g73XM1aU7a7465of4xJml8TNkp7diELP-kAoTSppP3I)\n",
    "\n",
    "To use the glossary for this course item, click the link below and select “Use Template.”\n",
    "\n",
    "Link to glossary: [Course 7 Glossary](https://docs.google.com/document/d/1G0kkhf3LNRpZKjzE_Cp6k88XdQ5RYxj0Y9zqWco7exw/template/preview?usp=sharing&resourcekey=0-uBM_b8iG7GeOXYc6tbWh3A \"Course 7 glossary\")\n",
    "\n",
    "OR\n",
    "\n",
    "If you don’t have a Google account, you can download the glossary directly from the attachment below.\n",
    "\n",
    "[](https://d3c33hcgiwev3.cloudfront.net/RkZ7TACZQBm-HWbGAmMYrA_be2aa1c39f1e4af0ab7a76cccb800cf1_Course-7-glossary.docx?Expires=1707696000&Signature=PsIchty7Vz3~xZa~Gu~ChCIOwTaCEF7dplZyd1Adp9vPordWjk-ibug7QS38yf0bZo1Cl29y2KZn7bgDybY59Xg4-6HNg7zr7VwC4fMw67EmDoKPazegpBFbWUmFpUVH6L1OdSo6-tGyyGExzbnzp7kPRpB0-ZHCA0CrQKXrCuw_&Key-Pair-Id=APKAJLTNE6QMUY6HBC5A)\n",
    "\n",
    "Course 7 glossary\n",
    "\n",
    "DOCX File"
   ]
  }
 ],
 "metadata": {
  "kernelspec": {
   "display_name": "Python 3 (ipykernel)",
   "language": "python",
   "name": "python3"
  },
  "language_info": {
   "codemirror_mode": {
    "name": "ipython",
    "version": 3
   },
   "file_extension": ".py",
   "mimetype": "text/x-python",
   "name": "python",
   "nbconvert_exporter": "python",
   "pygments_lexer": "ipython3",
   "version": "3.11.7"
  }
 },
 "nbformat": 4,
 "nbformat_minor": 5
}
