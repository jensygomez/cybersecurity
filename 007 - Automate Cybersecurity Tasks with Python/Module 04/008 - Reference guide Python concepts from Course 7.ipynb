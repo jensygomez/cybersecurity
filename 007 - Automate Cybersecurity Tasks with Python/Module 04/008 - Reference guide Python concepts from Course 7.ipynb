{
 "cells": [
  {
   "cell_type": "markdown",
   "id": "2196354f-52e1-47f5-8da7-5af7b2af3408",
   "metadata": {},
   "source": [
    "\n",
    "# Reference guide: Python concepts from Course 7\n",
    "\n",
    "This reference guide contains Python language introduced during the Automate Cybersecurity with Python course. The guide is organized into the following sections:\n",
    "\n",
    "-   Comments\n",
    "    \n",
    "-   Conditional statements\n",
    "    \n",
    "-   Iterative statements\n",
    "    \n",
    "-   User-defined functions\n",
    "    \n",
    "-   Built-in-functions\n",
    "    \n",
    "-   Importing modules and libraries\n",
    "    \n",
    "-   String methods\n",
    "    \n",
    "-   List methods\n",
    "    \n",
    "-   Additional syntax for working with strings and lists\n",
    "    \n",
    "-   Regular expressions\n",
    "    \n",
    "-   File operations\n",
    "    \n",
    "-   Parsing\n",
    "    \n",
    "\n",
    "Within each section, items generally appear in the order they were introduced.\n",
    "\n",
    "## Access and save the guide\n",
    "\n",
    "You can save a copy of this guide for future reference. You can use it as a resource for additional practice or in your future professional projects.\n",
    "\n",
    "To access a downloadable version of this course item, click the following link and select _Use Template_.\n",
    "\n",
    "[Reference guide: Python concepts from Course 7](https://docs.google.com/document/d/1YQRiQ2nTc7rr1bPpgezVxLt78YqaiwCgOMJcH3R35Yk/template/preview?pli=1#heading=h.6eikvmfmqupl \"python reference guide: concepts from course 7\")\n",
    "\n",
    "OR\n",
    "\n",
    "If you don’t have a Google account, you can download the item directly from the following attachment.\n",
    "\n",
    "[](https://d3c33hcgiwev3.cloudfront.net/2XjDdOQYTNq-ax3Huy5Njg_cebc91eb858c4aae83670cefe2ae43f1_Reference-Guide_-Python-concepts-from-Course-7.pdf?Expires=1707696000&Signature=DlTePVxggopPpeiSN1CYwc7CzBQIyy5P63cV2mqVjRFEl2T6f~mI5rowsAbDC4BNpsQ1PY7xNESfRcXcUKBPrxopHgdNEP220q9dtcGAbnQdFaK5f6eQxp5ZUg7vmVIXcbB3mpBcK-CbTqDyCYkRhOy7s2rZ~zjfN85wkUU5sBk_&Key-Pair-Id=APKAJLTNE6QMUY6HBC5A)\n",
    "\n",
    "Reference Guide_ Python concepts from Course 7.pdf\n",
    "\n",
    "PDF File"
   ]
  }
 ],
 "metadata": {
  "kernelspec": {
   "display_name": "Python 3 (ipykernel)",
   "language": "python",
   "name": "python3"
  },
  "language_info": {
   "codemirror_mode": {
    "name": "ipython",
    "version": 3
   },
   "file_extension": ".py",
   "mimetype": "text/x-python",
   "name": "python",
   "nbconvert_exporter": "python",
   "pygments_lexer": "ipython3",
   "version": "3.11.7"
  }
 },
 "nbformat": 4,
 "nbformat_minor": 5
}
