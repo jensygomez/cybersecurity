{
 "cells": [
  {
   "cell_type": "markdown",
   "metadata": {
    "id": "ISr45HAPh1Xq"
   },
   "source": [
    "# Activity: Assign Python variables"
   ]
  },
  {
   "cell_type": "markdown",
   "metadata": {
    "id": "ivt8p77hCKcO"
   },
   "source": [
    "## Introduction\n",
    "\n",
    "Variables help security analysts to keep track of a variety of security-related information. For example, analysts may need to create Python variables for the users who are allowed to log in, the number of login attempts that they're permitted, and the current number of attempts that a user has made.\n",
    "\n",
    "In this lab, you'll practice assigning values to variables and determining their data types."
   ]
  },
  {
   "cell_type": "markdown",
   "metadata": {
    "id": "eW4pA4LsC-vb"
   },
   "source": [
    "<details><summary><h2>Tips for completing this lab</h2></summary>\n",
    "\n",
    "As you navigate this lab, keep the following tips in mind:\n",
    "\n",
    "- `### YOUR CODE HERE ###` indicates where you should write code. Be sure to replace this with your own code before running the code cell.\n",
    "- Feel free to open the hints for additional guidance as you work on each task.\n",
    "- To enter your answer to a question, double-click the markdown cell to edit. Be sure to replace the \"[Double-click to enter your responses here.]\" with your own answer.\n",
    "- You can save your work manually by clicking File and then Save in the menu bar at the top of the notebook.\n",
    "- You can download your work locally by clicking File and then Download and then specifying your preferred file format in the menu bar at the top of the notebook.\n",
    "</details>"
   ]
  },
  {
   "cell_type": "markdown",
   "metadata": {
    "id": "A8q3M1L7isIj"
   },
   "source": [
    "## Scenario\n",
    "You are a security analyst who is responsible for writing code that will automate analysis of login attempts made to a specific device. As the first step, you'll need to create variables to keep track of information relevant to the login process. This information includes the device ID, list of approved usernames, maximum login attempts allowed per user, current login attempts made by a user, and login status.\n",
    "\n",
    "Throughout this lab, you'll assign these variables and check the data types of the variables."
   ]
  },
  {
   "cell_type": "markdown",
   "metadata": {
    "id": "4XkIkgiQpk34",
    "tags": []
   },
   "source": [
    "## Task 1\n",
    "In your work as an analyst, imagine there is a device only users specified on an allow list can access, and its device ID is `\"72e08x0\"`.\n",
    "\n",
    "In the following code cell, assign this value to a variable named `device_id`. Then, display the contents of the variable and observe the output.\n",
    "\n",
    "Be sure to replace each `### YOUR CODE HERE ###` with your own code before you run the following cell."
   ]
  },
  {
   "cell_type": "code",
   "execution_count": 2,
   "metadata": {
    "id": "zAVwov6JJQS7"
   },
   "outputs": [
    {
     "name": "stdout",
     "output_type": "stream",
     "text": [
      "72e08x0\n"
     ]
    }
   ],
   "source": [
    "# Assign the `device_id` variable to the device ID that only specified users can access\n",
    "\n",
    "device_id = \"72e08x0\"\n",
    "\n",
    "# Display `device_id`\n",
    "\n",
    "print(device_id)\n"
   ]
  },
  {
   "cell_type": "markdown",
   "metadata": {
    "id": "F30VpnPtUcW5",
    "tags": []
   },
   "source": [
    "<details>\n",
    "  <summary><h4><strong>Hint 1</strong></h4></summary>\n",
    "\n",
    "Use quotation marks around the value that you assign to the `device_id` variable.\n",
    "\n",
    "</details>"
   ]
  },
  {
   "cell_type": "markdown",
   "metadata": {
    "id": "jj2jLLzLUcW5"
   },
   "source": [
    "<details>\n",
    "  <summary><h4><strong>Hint 2</strong></h4></summary>\n",
    "\n",
    "Assign the value `\"72e08x0\"` to the variable `device_id`. To do this, place the value to right of the `=` operator.\n",
    "\n",
    "</details>"
   ]
  },
  {
   "cell_type": "markdown",
   "metadata": {
    "id": "qpHMOi8vUcW5"
   },
   "source": [
    "<details>\n",
    "  <summary><h4><strong>Hint 3</strong></h4></summary>\n",
    "\n",
    "To display the contents of `device_id`, place the name of this variable inside the `print()` function.\n",
    "\n",
    "</details>"
   ]
  },
  {
   "cell_type": "markdown",
   "metadata": {
    "id": "Xky9BjthiYqm"
   },
   "source": [
    "## Task 2\n",
    "Now that the variable `device_id` is defined, you can return its data type.\n",
    "\n",
    "In this task, use a Python function to find the data type of the variable `device_id`. Store the data type in another variable called `device_id_type`. Then, display `device_id_type` to examine the output.\n",
    "\n",
    "Be sure to replace each `### YOUR CODE HERE ###` with your own code before you run the following cell.\n"
   ]
  },
  {
   "cell_type": "code",
   "execution_count": null,
   "metadata": {
    "id": "9w0g21J7i01H"
   },
   "outputs": [],
   "source": [
    "# Assign the `device_id` variable to the device ID that only specified users can access\n",
    "\n",
    "device_id = \"72e08x0\"\n",
    "\n",
    "# Assign `device_id_type` to the data type of `device_id`\n",
    "\n",
    "device_id_type = ### YOUR CODE HERE ###\n",
    "\n",
    "# Display `device_id_type`\n",
    "\n",
    "print(### YOUR CODE HERE ###)\n",
    "    "
   ]
  },
  {
   "cell_type": "markdown",
   "metadata": {
    "id": "SF-DtKYyrLak",
    "tags": []
   },
   "source": [
    "<details>\n",
    "  <summary><h4><strong>Hint 1</strong></h4></summary>\n",
    "\n",
    "The `type()` function allows you to get the data type of a given value.\n",
    "\n",
    "</details>"
   ]
  },
  {
   "cell_type": "markdown",
   "metadata": {
    "id": "PEcJeExRrLat"
   },
   "source": [
    "<details>\n",
    "  <summary><h4><strong>Hint 2</strong></h4></summary>\n",
    "\n",
    "Use `type(device_id)` to get the data type of the `device_id` variable.\n",
    "\n",
    "</details>"
   ]
  },
  {
   "cell_type": "markdown",
   "metadata": {
    "id": "fLVHruphrp49"
   },
   "source": [
    "<details>\n",
    "  <summary><h4><strong>Hint 3</strong></h4></summary>\n",
    "\n",
    "To display `device_id_type`, place the name of this variable inside the `print()` function.\n",
    "\n",
    "</details>"
   ]
  },
  {
   "cell_type": "markdown",
   "metadata": {
    "id": "g_03rNzrd8F0"
   },
   "source": [
    "#### **Question 1**\n",
    "**Based on the output above, what do you observe about the data type of `device_id`?**"
   ]
  },
  {
   "cell_type": "markdown",
   "metadata": {
    "id": "yxv9ICX_egCB"
   },
   "source": [
    "I assigned the value to the variable 'device' between quotation marks. Later, I printed the value of the 'device_id' variable."
   ]
  },
  {
   "cell_type": "markdown",
   "metadata": {
    "id": "QP05AxAwi_vL"
   },
   "source": [
    "## Task 3\n",
    "As you continue your work, you're provided a list of usernames of users who are allowed to access the device. The usernames with this access are `\"madebowa\"`, `\"jnguyen\"`, `\"tbecker\"`, `\"nhersh\"`, and `\"redwards\"`.\n",
    "\n",
    "In this task, create a variable called `username_list`. Assign a list with the approved usernames to this variable. Then, display the value of the `username_list` variable.\n",
    "\n",
    "Be sure to replace each `### YOUR CODE HERE ###` with your own code before you run the following cell."
   ]
  },
  {
   "cell_type": "code",
   "execution_count": 4,
   "metadata": {
    "id": "cgmlPvWLkBEM"
   },
   "outputs": [
    {
     "name": "stdout",
     "output_type": "stream",
     "text": [
      "['madebowa', 'juguyen', 'tbecker', 'nhersh', 'redwards']\n"
     ]
    }
   ],
   "source": [
    "# Assign `username_list` to the list of usernames who are allowed to access the device\n",
    "\n",
    "username_list = [\"madebowa\", \"juguyen\", \"tbecker\", \"nhersh\", \"redwards\"]\n",
    "\n",
    "# Display `username_list`\n",
    "\n",
    "print(username_list) ### YOUR CODE HERE ###)\n"
   ]
  },
  {
   "cell_type": "markdown",
   "metadata": {
    "id": "9zon3fxlbZiG"
   },
   "source": [
    "<details>\n",
    "  <summary><h4><strong>Hint 1</strong></h4></summary>\n",
    "\n",
    "To create a list in Python, use square brackets. Inside the square brackets, write the elements of the list, with a comma between elements.\n",
    "\n",
    "</details>"
   ]
  },
  {
   "cell_type": "markdown",
   "metadata": {
    "id": "J73Rv91PUoES"
   },
   "source": [
    "<details>\n",
    "  <summary><h4><strong>Hint 2</strong></h4></summary>\n",
    "\n",
    "To assign a value to a variable in Python, place the name of the variable to the left of the `=` operator, and place the value to the right of the `=` operator.\n",
    "\n",
    "In this task, make sure to place `[\"madebowa\", \"jnguyen\", \"tbecker\", \"nhersh\", \"redwards\"]` to the right of the `=` operator.\n",
    "\n",
    "</details>"
   ]
  },
  {
   "cell_type": "markdown",
   "metadata": {
    "id": "OQTnnv6TbZiG"
   },
   "source": [
    "<details>\n",
    "  <summary><h4><strong>Hint 3</strong></h4></summary>\n",
    "\n",
    "To display `username_list`, place the name of this variable inside the `print()` function.\n",
    "\n",
    "</details>"
   ]
  },
  {
   "cell_type": "markdown",
   "metadata": {
    "id": "89fOQheQ076R"
   },
   "source": [
    "## Task 4\n",
    "In this task, find the data type of the `username_list`. Store the type in a variable called `username_list_type`. Then, display `username_list_type` to examine the output.\n",
    "\n",
    "Be sure to replace each `### YOUR CODE HERE ###` with your own code before you run the following cell."
   ]
  },
  {
   "cell_type": "code",
   "execution_count": 5,
   "metadata": {
    "id": "Yzpvr9WJ1Pi8"
   },
   "outputs": [
    {
     "name": "stdout",
     "output_type": "stream",
     "text": [
      "<class 'list'>\n"
     ]
    }
   ],
   "source": [
    "# Assign `username_list` to the list of usernames who are allowed to access the device\n",
    "\n",
    "username_list = [\"madebowa\", \"jnguyen\", \"tbecker\", \"nhersh\", \"redwards\"]\n",
    "\n",
    "# Assign `username_list_type` to the data type of `username_list`\n",
    "\n",
    "username_list_type = type(username_list)\n",
    "\n",
    "# Display `username_list_type`\n",
    "\n",
    "print(username_list_type)\n"
   ]
  },
  {
   "cell_type": "markdown",
   "metadata": {
    "id": "_A6GgpvQcEdv"
   },
   "source": [
    "<details>\n",
    "  <summary><h4><strong>Hint 1</strong></h4></summary>\n",
    "\n",
    "The `type()` function allows you to get the data type of a given value.\n",
    "\n",
    "</details>"
   ]
  },
  {
   "cell_type": "markdown",
   "metadata": {
    "id": "sk0EVD3ecEdw"
   },
   "source": [
    "<details>\n",
    "  <summary><h4><strong>Hint 2</strong></h4></summary>\n",
    "\n",
    "To get the data type of `username_list`, call the `type()` function and pass in `username_list`.\n",
    "\n",
    "</details>"
   ]
  },
  {
   "cell_type": "markdown",
   "metadata": {
    "id": "pEetodFVcEdw"
   },
   "source": [
    "<details>\n",
    "  <summary><h4><strong>Hint 3</strong></h4></summary>\n",
    "\n",
    "In Python, you can use the `print()` function to display the value of a variable. To display `username_list_type`, call the `print()` function and pass in `username_list_type`.\n",
    "\n",
    "</details>"
   ]
  },
  {
   "cell_type": "markdown",
   "metadata": {
    "id": "2Q916P--eiMt"
   },
   "source": [
    "#### **Question 2**\n",
    "**Based on the output above, what do you observe about the data type of `username_list`?**"
   ]
  },
  {
   "cell_type": "markdown",
   "metadata": {
    "id": "a__dHuhGeiMt"
   },
   "source": [
    "I observe that the output gives us '<class 'list'>', is that correct?"
   ]
  },
  {
   "cell_type": "markdown",
   "metadata": {
    "id": "cvV_L70okWNI"
   },
   "source": [
    "## Task 5\n",
    "Now, imagine that you've been informed that the previous list is not up-to-date and that there is another employee that now has access to the device. You're given the updated list of usernames with access, including the new employee, as follows: `\"madebowa\"`, `\"jnguyen\"`, `\"tbecker\"`, `\"nhersh\"`, `\"redwards\"`, and `\"lpope\"`.\n",
    "\n",
    "In this task, reassign the variable `username_list` to the new list. Run the code to display the list before and after it's been updated to observe the difference.\n",
    "\n",
    "Be sure to replace each `### YOUR CODE HERE ###` with your own code before you run the following cell."
   ]
  },
  {
   "cell_type": "code",
   "execution_count": 6,
   "metadata": {
    "id": "fLt9BzUFkXmG"
   },
   "outputs": [
    {
     "name": "stdout",
     "output_type": "stream",
     "text": [
      "['madebowa', 'jnguyen', 'tbecker', 'nhersh', 'redwards']\n",
      "['madebowa', 'jnguyen', 'tbecker', 'nhersh', 'redwards', 'lpope']\n"
     ]
    }
   ],
   "source": [
    "# Assign `username_list` to the list of usernames who are allowed to access the device\n",
    "\n",
    "username_list = [\"madebowa\", \"jnguyen\", \"tbecker\", \"nhersh\", \"redwards\"]\n",
    "\n",
    "# Display `username_list`\n",
    "\n",
    "print(username_list)\n",
    "\n",
    "# Assign `username_list` to the updated list of usernames who are allowed to access the device\n",
    "\n",
    "username_list = [\"madebowa\", \"jnguyen\", \"tbecker\", \"nhersh\", \"redwards\", \"lpope\"]\n",
    "\n",
    "# Display `username_list`\n",
    "\n",
    "print(username_list)\n"
   ]
  },
  {
   "cell_type": "markdown",
   "metadata": {
    "id": "02bW-FQSgYX7"
   },
   "source": [
    "<details>\n",
    "  <summary><h4><strong>Hint 1</strong></h4></summary>\n",
    "\n",
    "When reassigning a variable to a new value in Python, place the name of the variable to the left of the `=` operator, just as you would when assigning the variable for the first time.\n",
    "\n",
    "</details>"
   ]
  },
  {
   "cell_type": "markdown",
   "metadata": {
    "id": "ETcEZOqnU1pz"
   },
   "source": [
    "<details>\n",
    "  <summary><h4><strong>Hint 2</strong></h4></summary>\n",
    "\n",
    "To reassign `username_list` to the updated list, place `username_list` to the left of the `=` operator.\n",
    "\n",
    "</details>"
   ]
  },
  {
   "cell_type": "markdown",
   "metadata": {
    "id": "JvpvqtW6g-QT"
   },
   "source": [
    "#### **Question 3**\n",
    "**Based on the output above, what do you observe about the contents of `username_list`?**"
   ]
  },
  {
   "cell_type": "markdown",
   "metadata": {
    "id": "OavH92wXg-QU"
   },
   "source": [
    "Now it's interesting because there are two prints in the display. However, in the second display, there is one more person."
   ]
  },
  {
   "cell_type": "markdown",
   "metadata": {
    "id": "iYDV65CclQlc"
   },
   "source": [
    "## Task 6\n",
    "In this task, define a variable called `max_logins` that represents the maximum number of login attempts allowed per user. Store the value `3` in this variable. Then, store its data type in another variable called `max_logins_type`. Display `max_logins_type` to examine the output.\n",
    "\n",
    "Be sure to replace each `### YOUR CODE HERE ###` with your own code before you run the following cell."
   ]
  },
  {
   "cell_type": "code",
   "execution_count": 7,
   "metadata": {
    "id": "rrmY4XeNx_d7"
   },
   "outputs": [
    {
     "name": "stdout",
     "output_type": "stream",
     "text": [
      "<class 'int'>\n"
     ]
    }
   ],
   "source": [
    "# Assign `max_logins` to the value 3\n",
    "\n",
    "max_logins = 3\n",
    "\n",
    "# Assign `max_logins_type` to the data type of `max_logins`\n",
    "\n",
    "max_logins_type = type(max_logins)\n",
    "\n",
    "# Display `max_logins_type`\n",
    "\n",
    "print(max_logins_type)\n"
   ]
  },
  {
   "cell_type": "markdown",
   "metadata": {
    "id": "bDTRW5iDVZvb"
   },
   "source": [
    "<details>\n",
    "  <summary><h4><strong>Hint 1</strong></h4></summary>\n",
    "\n",
    "When assigning a value to a variable in Python, use the `=` operator. Place the name of the variable to the left of the `=` operator, and place the value to the right of the `=` operator.\n",
    "\n",
    "</details>"
   ]
  },
  {
   "cell_type": "markdown",
   "metadata": {
    "id": "HnwzqIY5xknA"
   },
   "source": [
    "<details>\n",
    "  <summary><h4><strong>Hint 2</strong></h4></summary>\n",
    "\n",
    "To assign `3` to `max_logins`, place `max_logins` to the left of the `=` operator, and place `3` to the right of the `=` operator.\n",
    "\n",
    "To assign `max_logins_type`, place `max_logins_type` to the left of the `=` operator before the `type()` function call.\n",
    "\n",
    "</details>"
   ]
  },
  {
   "cell_type": "markdown",
   "metadata": {
    "id": "kQbcfpbjVZvc"
   },
   "source": [
    "<details>\n",
    "  <summary><h4><strong>Hint 3</strong></h4></summary>\n",
    "\n",
    "In Python, you can use the `print()` function to display the value of a variable. To display `max_logins_type`, call `print()` and pass in `max_logins_type`.\n",
    "\n",
    "</details>"
   ]
  },
  {
   "cell_type": "markdown",
   "metadata": {
    "id": "Bl35H3myh4xZ"
   },
   "source": [
    "#### **Question 4**\n",
    "**Based on the output above, what do you observe about the data type of `max_logins`?**"
   ]
  },
  {
   "cell_type": "raw",
   "metadata": {
    "id": "MCTU3HsXh4xi"
   },
   "source": [
    "Perfect!!! It's awesome. The output is an integer. This code is perfect."
   ]
  },
  {
   "cell_type": "markdown",
   "metadata": {
    "id": "85o9hfJmyH3W"
   },
   "source": [
    "## Task 7\n",
    "In this task, define a variable called `login_attempts` that represents the current number of login attempts made by a user. Store the value `2` in this variable. Then, store its data type in a variable called `login_attempts_type`. Display `login_attempts_type` to observe the output.\n",
    "\n",
    "Be sure to replace each `### YOUR CODE HERE ###` with your own code before you run the following cell."
   ]
  },
  {
   "cell_type": "code",
   "execution_count": 8,
   "metadata": {
    "id": "-3YDmrBWzOFc"
   },
   "outputs": [
    {
     "name": "stdout",
     "output_type": "stream",
     "text": [
      "<class 'int'>\n"
     ]
    }
   ],
   "source": [
    "# Assign `login_attempts` to the value 2\n",
    "\n",
    "login_attempts = 2\n",
    "\n",
    "# Assign `login_attempts_type` to the data type of `login_attempts`\n",
    "\n",
    "login_attempts_type = type(login_attempts)\n",
    "\n",
    "# Display `login_attempts_type`\n",
    "\n",
    "print(login_attempts_type)\n"
   ]
  },
  {
   "cell_type": "markdown",
   "metadata": {
    "id": "t-l9SR2mVeqc"
   },
   "source": [
    "<details>\n",
    "  <summary><h4><strong>Hint 1</strong></h4></summary>\n",
    "\n",
    "When assigning a value to a variable in Python, use the `=` operator. Place the name of the variable to the left of the `=` operator, and place the value to the right of the `=` operator.\n",
    "\n",
    "</details>"
   ]
  },
  {
   "cell_type": "markdown",
   "metadata": {
    "id": "NNEn8rkpVnMQ"
   },
   "source": [
    "<details>\n",
    "  <summary><h4><strong>Hint 2</strong></h4></summary>\n",
    "\n",
    "To assign `2` to `login_attempts`, place `login_attempts` to the left of the `=` operator, and place `2` to the right of the `=` operator.\n",
    "\n",
    "To assign `login_attempts_type`, place `login_attempts_type` to the left of the `=` operator, and place a call to the `type()` function to the right of the `=` operator.\n",
    "\n",
    "When calling `type()`, make sure to pass in `login_attempts`.\n",
    "\n",
    "</details>"
   ]
  },
  {
   "cell_type": "markdown",
   "metadata": {
    "id": "IM8picKtVnMQ"
   },
   "source": [
    "<details>\n",
    "  <summary><h4><strong>Hint 3</strong></h4></summary>\n",
    "\n",
    "In Python, you can use the `print()` function to display the value of a variable. To display `login_attempts_type`, call `print()` and pass in `login_attempts_type`.\n",
    "\n",
    "</details>"
   ]
  },
  {
   "cell_type": "markdown",
   "metadata": {
    "id": "sFSn1Xvuj0a8"
   },
   "source": [
    "#### **Question 5**\n",
    "**Based on the output above, what do you observe about the data type of `login_attempts`?**"
   ]
  },
  {
   "cell_type": "markdown",
   "metadata": {
    "id": "XomtDQZ2j0a9"
   },
   "source": [
    "Awesome"
   ]
  },
  {
   "cell_type": "markdown",
   "metadata": {
    "id": "JKNwC4lKzWW6"
   },
   "source": [
    "## Task 8\n",
    "In this task, you'll determine the Boolean value that represents whether the current number of login attempts a user has made is less than or equal to the maximum number of login attempts allowed.\n",
    "\n",
    "Be sure to replace each `### YOUR CODE HERE ###` with your own code before you run the following cell.\n"
   ]
  },
  {
   "cell_type": "code",
   "execution_count": 10,
   "metadata": {
    "id": "2mwU0rO40CSU"
   },
   "outputs": [
    {
     "name": "stdout",
     "output_type": "stream",
     "text": [
      "True\n"
     ]
    }
   ],
   "source": [
    "# Assign `max_logins` to the value 3\n",
    "\n",
    "max_logins = 3\n",
    "\n",
    "# Assign `login_attempts` to the value 2\n",
    "\n",
    "login_attempts = 2\n",
    "\n",
    "# Determine whether the current number of login attempts a user has made is less than or equal to the maximum number of login attempts allowed,\n",
    "# and display the resulting Boolean value\n",
    "\n",
    "print(login_attempts <= max_logins)\n",
    "    "
   ]
  },
  {
   "cell_type": "markdown",
   "metadata": {
    "id": "CcFDQ5iMklzz"
   },
   "source": [
    "<details>\n",
    "  <summary><h4><strong>Hint 1</strong></h4></summary>\n",
    "\n",
    "In Python, you can use the `<=` comparison operator to determine whether one value is less than or equal to another value.\n",
    "\n",
    "</details>"
   ]
  },
  {
   "cell_type": "markdown",
   "metadata": {
    "id": "nmT8q0j-klzz"
   },
   "source": [
    "<details>\n",
    "  <summary><h4><strong>Hint 2</strong></h4></summary>\n",
    "\n",
    "To determine whether the current number of login attempts a user has made is less than or equal to the maximum number of login attempts allowed, use the `<=` operator. Place `login_attempts` to the left of the `<=` operator, and place `max_logins` to the right of the `<=` operator.\n",
    "\n",
    "To make sure the resulting Boolean value is displayed, write this code inside of the parantheses where `print()` is called.\n",
    "\n",
    "</details>"
   ]
  },
  {
   "cell_type": "markdown",
   "metadata": {
    "id": "RS9AaPuVklz0"
   },
   "source": [
    "#### **Question 6**\n",
    "**What is the output? What does this mean?**"
   ]
  },
  {
   "cell_type": "markdown",
   "metadata": {
    "id": "hzye4hciklz0"
   },
   "source": [
    "\n",
    "Perfectly! I am excited. All this code is functional."
   ]
  },
  {
   "cell_type": "markdown",
   "metadata": {
    "id": "rjxdlE170I70"
   },
   "source": [
    "## Task 9\n",
    "This code continues to check for the Boolean value of whether `max_logins` is less than or equal to `login_attempts`. In this task, reassign other values to `login_attempts`. For example, you might choose a value that is higher than the maximum number of attempts allowed. Observe how the output changes.\n",
    "\n",
    "Be sure to replace each `### YOUR CODE HERE ###` with your own code before you run the following cell."
   ]
  },
  {
   "cell_type": "code",
   "execution_count": 11,
   "metadata": {
    "id": "uIdS23Qr0NG9"
   },
   "outputs": [
    {
     "name": "stdout",
     "output_type": "stream",
     "text": [
      "False\n"
     ]
    }
   ],
   "source": [
    "# Assign `max_logins` to the value 3\n",
    "\n",
    "max_logins = 3\n",
    "\n",
    "# Assign `login_attempts` to a specific value\n",
    "\n",
    "login_attempts = 4\n",
    "\n",
    "# Determine whether the current number of login attempts a user has made is less than or equal to the maximum number of login attempts allowed,\n",
    "# and display the resulting Boolean value\n",
    "\n",
    "print(login_attempts <= max_logins)\n"
   ]
  },
  {
   "cell_type": "markdown",
   "metadata": {
    "id": "ApSY7aQamLZE"
   },
   "source": [
    "<details>\n",
    "  <summary><h4><strong>Hint 1</strong></h4></summary>\n",
    "\n",
    "To assign `login_attempts` to a specific value, make sure to write the value to the right of the `=` operator.\n",
    "\n",
    "</details>"
   ]
  },
  {
   "cell_type": "markdown",
   "metadata": {
    "id": "MbJ5mMuPmLZF"
   },
   "source": [
    "#### **Question 7**\n",
    "**Based on the different values you assigned to `login_attempts`, what did you observe about the output?**"
   ]
  },
  {
   "cell_type": "markdown",
   "metadata": {
    "id": "LPl0u_jOmLZF"
   },
   "source": [
    "\"In this case, when 'max_logins' exceeds 'login_attempts', the boolean value is 'False'.\""
   ]
  },
  {
   "cell_type": "markdown",
   "metadata": {
    "id": "toglOMvH0bx4"
   },
   "source": [
    "## Task 10\n",
    "Finally, you can also assign a Boolean value of `True` or `False` to a variable.\n",
    "\n",
    "In this task, you'll create a variable called `login_status`, which is a Boolean that represents whether a user is logged in. Assign `False` to this variable and store its data type in a variable called `login_status_type` and display it.\n",
    "\n",
    "Be sure to replace each `### YOUR CODE HERE ###` with your own code before you run the following cell."
   ]
  },
  {
   "cell_type": "code",
   "execution_count": 12,
   "metadata": {
    "id": "BwjxdmYc1sDY"
   },
   "outputs": [
    {
     "name": "stdout",
     "output_type": "stream",
     "text": [
      "<class 'bool'>\n"
     ]
    }
   ],
   "source": [
    "# Assign `login_status` to the Boolean value False\n",
    "\n",
    "login_status = False\n",
    "\n",
    "# Assign `login_status_type` to the data type of `login_status`\n",
    "\n",
    "login_status_type = type(login_status)\n",
    "\n",
    "# Display `login_status_type`\n",
    "\n",
    "print(login_status_type)\n"
   ]
  },
  {
   "cell_type": "markdown",
   "metadata": {
    "id": "v9mAtdMHrkiS"
   },
   "source": [
    "<details>\n",
    "  <summary><h4><strong>Hint 1</strong></h4></summary>\n",
    "\n",
    "To assign the Boolean value `False` to the `login_status` variable, make sure to write `False` to the right of the `=` operator.\n",
    "\n",
    "</details>"
   ]
  },
  {
   "cell_type": "markdown",
   "metadata": {
    "id": "9LZYgEvKQ9tA"
   },
   "source": [
    "<details>\n",
    "  <summary><h4><strong>Hint 2</strong></h4></summary>\n",
    "\n",
    "Note that Boolean values should not have quotation marks around them in code.\n",
    "\n",
    "</details>"
   ]
  },
  {
   "cell_type": "markdown",
   "metadata": {
    "id": "EpuzbcA0rkiS"
   },
   "source": [
    "#### **Question 8**\n",
    "**Based on the output above, what do you observe about the data type of `login_status`?**"
   ]
  },
  {
   "cell_type": "markdown",
   "metadata": {
    "id": "AZAqQKoFrkiS"
   },
   "source": [
    "The Dysplay is \"bool\""
   ]
  },
  {
   "cell_type": "markdown",
   "metadata": {
    "id": "ru2ytGBLCh4q"
   },
   "source": [
    "## Conclusion\n",
    "\n",
    "**What are your key takeaways from this lab?**"
   ]
  },
  {
   "cell_type": "markdown",
   "metadata": {
    "id": "ls2WEGqsiSAd"
   },
   "source": [
    "I am fascinated by the pedagogical way of the laboratory. It was a very dynamic, entertaining, and educational step-by-step process. Throughout the exercises, we explored fundamental programming concepts in Python, including variable assignment, list manipulation, data type identification, and boolean value comparisons. The clear and engaging examples provided a practical understanding of these concepts, creating a solid foundation for further exploration into more advanced aspects of software development with Python."
   ]
  }
 ],
 "metadata": {
  "colab": {
   "collapsed_sections": [
    "JvpvqtW6g-QT",
    "Bl35H3myh4xZ",
    "sFSn1Xvuj0a8",
    "RS9AaPuVklz0",
    "MbJ5mMuPmLZF",
    "EpuzbcA0rkiS"
   ],
   "provenance": []
  },
  "kernelspec": {
   "display_name": "Python 3",
   "language": "python",
   "name": "python3"
  },
  "language_info": {
   "codemirror_mode": {
    "name": "ipython",
    "version": 3
   },
   "file_extension": ".py",
   "mimetype": "text/x-python",
   "name": "python",
   "nbconvert_exporter": "python",
   "pygments_lexer": "ipython3",
   "version": "3.7.6"
  }
 },
 "nbformat": 4,
 "nbformat_minor": 1
}
