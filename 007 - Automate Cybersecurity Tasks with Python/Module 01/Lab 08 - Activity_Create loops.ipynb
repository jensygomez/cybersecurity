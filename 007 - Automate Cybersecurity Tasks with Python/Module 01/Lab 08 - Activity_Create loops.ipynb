{
 "cells": [
  {
   "cell_type": "markdown",
   "metadata": {
    "id": "5e2a85c3-4d7c-43c0-b9dd-ef7af16eb73d"
   },
   "source": [
    "# Activity: Create loops"
   ]
  },
  {
   "cell_type": "markdown",
   "metadata": {
    "id": "07edb7a1-c2cb-49cb-94e6-886268e48715"
   },
   "source": [
    "## Introduction\n",
    "\n",
    "As a security analyst, some of the measures you take to protect a system will involve repetition. As an example, you might need to investigate multiple IP addresses that have attempted to connect to the network. In Python, iterative statements can help automate repetitive processes like these to make them more efficient.\n",
    "\n",
    "In this lab, you will practice writing iterative statements in Python."
   ]
  },
  {
   "cell_type": "markdown",
   "metadata": {
    "id": "bM8zStFIWIkI"
   },
   "source": [
    "<details><summary><h2>Tips for completing this lab</h2></summary>\n",
    "\n",
    "As you navigate this lab, keep the following tips in mind:\n",
    "\n",
    "- `### YOUR CODE HERE ###` indicates where you should write code. Be sure to replace that with your own code before running the code cell.\n",
    "- Feel free to open the hints for additional guidance as you work on each task. \n",
    "- To enter your answer to a question, double-click the markdown cell to edit. Be sure to replace the \"[Double-click to enter your responses here.]\" with your own answer.\n",
    "- You can save your work manually by clicking File and then Save in the menu bar at the top of the notebook. \n",
    "- You can download your work locally by clicking File and then Download and then specifying your preferred file format in the menu bar at the top of the notebook. \n",
    "</details>"
   ]
  },
  {
   "cell_type": "markdown",
   "metadata": {
    "id": "35dbd645-a9b3-4f79-a239-b9fb3e1325d2"
   },
   "source": [
    "## Scenario\n",
    "\n",
    "You're working as a security analyst, and you're writing programs in Python to automate displaying messages regarding network connection attempts, detecting IP addresses that are attempting to access restricted data, and generating employee ID numbers for a Sales department."
   ]
  },
  {
   "cell_type": "markdown",
   "metadata": {
    "id": "MnfWH6cesPdt"
   },
   "source": [
    "## Task 1\n",
    "\n",
    "In this task, you'll create a loop related to connecting to a network.  \n",
    "\n",
    "Write an iterative statement that displays `Connection could not be established` three times. Use the `for` keyword, the `range()` function, and a loop variable of `i`. Be sure to replace the `### YOUR CODE HERE ###` with your own code before you run the following cell. "
   ]
  },
  {
   "cell_type": "code",
   "execution_count": 2,
   "metadata": {
    "id": "2QfMSg9fz7jP"
   },
   "outputs": [
    {
     "name": "stdout",
     "output_type": "stream",
     "text": [
      "Connection could not be established.\n",
      "Connection could not be established.\n",
      "Connection could not be established.\n"
     ]
    }
   ],
   "source": [
    "# Iterative statement using `for`, `range()`, and a loop variable of `i`\n",
    "# Display \"Connection could not be established.\" three times\n",
    "\n",
    "for i in range(3):\n",
    "    print(\"Connection could not be established.\")"
   ]
  },
  {
   "cell_type": "markdown",
   "metadata": {
    "id": "572a0c93-025b-4787-8fee-f17761fb8137"
   },
   "source": [
    "<details>\n",
    "    <summary><h4><strong>Hint 1</strong></h4></summary>\n",
    "\n",
    "Use `i` as the loop variable and then place the `in` operator after `i`. \n",
    "\n",
    "</details>"
   ]
  },
  {
   "cell_type": "markdown",
   "metadata": {
    "id": "AE8E5fhC05im"
   },
   "source": [
    "<details>\n",
    "    <summary><h4><strong>Hint 2</strong></h4></summary>\n",
    "\n",
    "After the `in` operator, pass in the appropriate number to the `range()` function so that it instructs Python to repeat the specified action three times.  \n",
    "    \n",
    "</details>"
   ]
  },
  {
   "cell_type": "markdown",
   "metadata": {
    "id": "SWqXMQVftzoW"
   },
   "source": [
    "## Task 2\n",
    "\n",
    "The `range()` function can also take in a variable. To repeat a specified action a certain number of times, you can first assign an integer value to a variable. Then, you can pass that variable into the `range()` function within a `for` loop.\n",
    "\n",
    "In your code that displays a network message connection, incorporate a variable called `connection_attempts`. Assign the positive integer of your choice as the value of that variable and fill in the missing variable in the iterative statement. Be sure to replace the `### YOUR CODE HERE ###` with your own code before you run the following cell. Test out the code with different values for `connection_attempts` and observe what happens. \n"
   ]
  },
  {
   "cell_type": "code",
   "execution_count": 3,
   "metadata": {
    "id": "P-f9JSiL3Ocq"
   },
   "outputs": [
    {
     "name": "stdout",
     "output_type": "stream",
     "text": [
      "Connection could not be established\n",
      "Connection could not be established\n",
      "Connection could not be established\n"
     ]
    }
   ],
   "source": [
    "# Create a variable called `connection_attempts` that stores the number of times the user has tried to connect to the network\n",
    "\n",
    "connection_attempts = 3\n",
    "\n",
    "# Iterative statement using `for`, `range()`, a loop variable of `i`, and `connection_attempts`\n",
    "# Display \"Connection could not be established.\" as many times as specified by `connection_attempts`\n",
    "\n",
    "for i in range(connection_attempts):\n",
    "    print(\"Connection could not be established\")"
   ]
  },
  {
   "cell_type": "markdown",
   "metadata": {
    "id": "51Le_bn31Up2"
   },
   "source": [
    "<details>\n",
    "    <summary><h4><strong>Hint 1</strong></h4></summary>\n",
    "\n",
    "Assign the `connection_attempts` variable to a number that represents how many times the user will try to connect to the network.\n",
    "    \n",
    "</details>"
   ]
  },
  {
   "cell_type": "markdown",
   "metadata": {
    "id": "UMgDUngT1Up2"
   },
   "source": [
    "<details>\n",
    "    <summary><h4><strong>Hint 2</strong></h4></summary>\n",
    "\n",
    "Pass in the appropriate variable to the `range()` function so that it instructs Python to repeat the specified action the specified number of times.  \n",
    "    \n",
    "</details>"
   ]
  },
  {
   "cell_type": "markdown",
   "metadata": {
    "id": "W8PtkYFP6Xrd"
   },
   "source": [
    "## Task 3\n",
    "\n",
    "This task can also be achieved with a `while` loop. Complete the `while` loop with the correct code to instruct it to display `\"Connection could not be established.\"` three times.\n",
    "\n",
    "In this task, a `for` loop and a `while` loop will produce similar results, but each is based on a different approach. (In other words, the underlying logic is different in each.) A `for` loop terminates after a certain number of iterations have completed, whereas a `while` loop terminates once it reaches a certain condition. In situations where you do not know how many times the specified action should be repeated, `while` loops are most appropriate. \n",
    "\n",
    "Be sure to replace the `### YOUR CODE HERE ###` with your own code before you run the following cell.\n"
   ]
  },
  {
   "cell_type": "code",
   "execution_count": 4,
   "metadata": {
    "id": "df3QbPg__hdf"
   },
   "outputs": [
    {
     "name": "stdout",
     "output_type": "stream",
     "text": [
      "Connection could not be established.\n",
      "Connection could not be established.\n",
      "Connection could not be established.\n",
      "Connection could not be established.\n",
      "Connection could not be established.\n"
     ]
    }
   ],
   "source": [
    "# Assign `connection_attempts` to an initial value of 0, to keep track of how many times the user has tried to connect to the network\n",
    "\n",
    "connection_attempts = 0\n",
    "\n",
    "# Iterative statement using `while` and `connection_attempts`\n",
    "# Display \"Connection could not be established.\" every iteration, until connection_attempts reaches a specified number\n",
    "\n",
    "while connection_attempts <= 4:\n",
    "    \n",
    "    print(\"Connection could not be established.\")\n",
    "    \n",
    "    # Update `connection_attempts` (increment it by 1 at the end of each iteration) \n",
    "    connection_attempts = connection_attempts + 1\n"
   ]
  },
  {
   "cell_type": "markdown",
   "metadata": {
    "id": "w_EoTGoX_pfj"
   },
   "source": [
    "<details>\n",
    "    <summary><h4><strong>Hint 1</strong></h4></summary>\n",
    "\n",
    "In the condition, use a comparison operator to check whether `connection_attempts` has reached a specific number. This number represents the number of times the message will be displayed.\n",
    "    \n",
    "</details>"
   ]
  },
  {
   "cell_type": "markdown",
   "metadata": {
    "id": "z4QbOLlG_pfk"
   },
   "source": [
    "<details>\n",
    "    <summary><h4><strong>Hint 2</strong></h4></summary>\n",
    "\n",
    "In the condition, use the `<` comparison operator to check whether `connection_attempts` is less than a specific number. This number represents the number of times the message will be displayed.  \n",
    "    \n",
    "</details>"
   ]
  },
  {
   "cell_type": "markdown",
   "metadata": {
    "id": "rXP7GNPuBMmG"
   },
   "source": [
    "<details>\n",
    "    <summary><h4><strong>Hint 3</strong></h4></summary>\n",
    "\n",
    "Use the `print()` function to display the appropriate message to the user.\n",
    "    \n",
    "</details>"
   ]
  },
  {
   "cell_type": "markdown",
   "metadata": {
    "id": "eDkg_mydxEQn"
   },
   "source": [
    "#### **Question 1**\n",
    "**What do you observe about the differences between the `for` loop and the `while` loop that you wrote?**"
   ]
  },
  {
   "cell_type": "markdown",
   "metadata": {
    "id": "vs_Qn6FSxj6p"
   },
   "source": [
    "Initially, I don't see significant differences between a for loop and a while loop. Certainly, they differ in the way the loops are constructed. Nevertheless, I believe that in advanced algorithms, it is important to understand the distinctions between them."
   ]
  },
  {
   "cell_type": "markdown",
   "metadata": {
    "id": "-mnyNB0W9Ola"
   },
   "source": [
    "## Task 4\n",
    "\n",
    "Now, you'll move onto your next task. You'll automate checking whether IP addresses are part of an allow list. You will start with a list of IP addresses from which users have tried to log in, stored in a variable called `ip_addresses`. Write a `for` loop that displays the elements of this list one at a time. Use `i` as the loop variable in the `for` loop.\n",
    "\n",
    "Be sure to replace the `### YOUR CODE HERE ###` with your own code before you run the following cell."
   ]
  },
  {
   "cell_type": "code",
   "execution_count": 5,
   "metadata": {
    "id": "9GhXxYn1Eho9"
   },
   "outputs": [
    {
     "name": "stdout",
     "output_type": "stream",
     "text": [
      "['192.168.142.245', '192.168.109.50', '192.168.86.232', '192.168.131.147', '192.168.205.12', '192.168.200.48']\n",
      "['192.168.142.245', '192.168.109.50', '192.168.86.232', '192.168.131.147', '192.168.205.12', '192.168.200.48']\n",
      "['192.168.142.245', '192.168.109.50', '192.168.86.232', '192.168.131.147', '192.168.205.12', '192.168.200.48']\n",
      "['192.168.142.245', '192.168.109.50', '192.168.86.232', '192.168.131.147', '192.168.205.12', '192.168.200.48']\n",
      "['192.168.142.245', '192.168.109.50', '192.168.86.232', '192.168.131.147', '192.168.205.12', '192.168.200.48']\n",
      "['192.168.142.245', '192.168.109.50', '192.168.86.232', '192.168.131.147', '192.168.205.12', '192.168.200.48']\n"
     ]
    }
   ],
   "source": [
    "# Assign `ip_addresses` to a list of IP addresses from which users have tried to log in\n",
    "\n",
    "ip_addresses = [\"192.168.142.245\", \"192.168.109.50\", \"192.168.86.232\", \"192.168.131.147\",\n",
    "                \"192.168.205.12\", \"192.168.200.48\"]\n",
    "\n",
    "# For loop that displays the elements of `ip_addresses` one at a time\n",
    "\n",
    "for i in ip_addresses:\n",
    "    print(ip_addresses)### YOUR CODE HERE ###:\n",
    "    ### YOUR CODE HERE ###"
   ]
  },
  {
   "cell_type": "markdown",
   "metadata": {
    "id": "-ATXXuRC9wkF"
   },
   "source": [
    "<details>\n",
    "    <summary><h4><strong>Hint 1</strong></h4></summary>\n",
    "\n",
    "Use `i` as the loop variable and the `in` operator to convey that the specified action should repeat for each element that's in the list `ip_addresses`.\n",
    "    \n",
    "</details>"
   ]
  },
  {
   "cell_type": "markdown",
   "metadata": {
    "id": "2nXu8LejEqrd"
   },
   "source": [
    "<details>\n",
    "    <summary><h4><strong>Hint 2</strong></h4></summary>\n",
    "\n",
    "To display the loop variable in every iteration, use the `print()` function inside the `for` loop.\n",
    "\n",
    "</details>"
   ]
  },
  {
   "cell_type": "markdown",
   "metadata": {
    "id": "XVH1oO7wKDnD"
   },
   "source": [
    "## Task 5\n",
    "You are now given a list of IP addresses that are allowed to log in, stored in a variable called `allow_list`. Write an `if` statement inside of the `for` loop. For each IP address in the list of IP addresses from which users have tried to log in, display `\"IP address is allowed\"` if it is among the allowed addresses and display `\"IP address is not allowed\"` otherwise.\n",
    "\n",
    "Be sure to replace the `### YOUR CODE HERE ###` with your own code before you run the following cell."
   ]
  },
  {
   "cell_type": "code",
   "execution_count": 6,
   "metadata": {
    "id": "O9mfnNQ8J6W1"
   },
   "outputs": [
    {
     "name": "stdout",
     "output_type": "stream",
     "text": [
      "IP address is not allowed\n",
      "IP address is not allowed\n",
      "IP address is allowed\n",
      "IP address is not allowed\n",
      "IP address is allowed\n",
      "IP address is not allowed\n"
     ]
    }
   ],
   "source": [
    "# Assign `allow_list` to a list of IP addresses that are allowed to log in\n",
    "\n",
    "allow_list = [\"192.168.243.140\", \"192.168.205.12\", \"192.168.151.162\", \"192.168.178.71\", \n",
    "              \"192.168.86.232\", \"192.168.3.24\", \"192.168.170.243\", \"192.168.119.173\"]\n",
    "\n",
    "# Assign `ip_addresses` to a list of IP addresses from which users have tried to log in\n",
    "\n",
    "ip_addresses = [\"192.168.142.245\", \"192.168.109.50\", \"192.168.86.232\", \"192.168.131.147\",\n",
    "                \"192.168.205.12\", \"192.168.200.48\"]\n",
    "\n",
    "# For each IP address in the list of IP addresses from which users have tried to log in, \n",
    "# If it is among the allowed addresses, then display “IP address is allowed”\n",
    "# Otherwise, display “IP address is not allowed”\n",
    "\n",
    "for i in ip_addresses:\n",
    "\tif i in allow_list:\n",
    "\t\tprint(\"IP address is allowed\")\n",
    "\telse:\n",
    "\t\tprint(\"IP address is not allowed\")"
   ]
  },
  {
   "cell_type": "markdown",
   "metadata": {
    "id": "rRXw1sVU-ry2"
   },
   "source": [
    "<details>\n",
    "    <summary><h4><strong>Hint 1</strong></h4></summary>\n",
    "\n",
    "Use `i` as the loop variable and the `in` operator to convey that the specified action should repeat for each element that's in the list `ip_addresses`.\n",
    "    \n",
    "</details>"
   ]
  },
  {
   "cell_type": "markdown",
   "metadata": {
    "id": "3gk28FHRKIwn"
   },
   "source": [
    "<details>\n",
    "    <summary><h4><strong>Hint 2</strong></h4></summary>\n",
    "\n",
    "Make sure that the `if` statement checks whether the user's IP address is in list of allowed IP addresses.\n",
    "    \n",
    "</details>"
   ]
  },
  {
   "cell_type": "markdown",
   "metadata": {
    "id": "MXE3aF3HKkVW"
   },
   "source": [
    "<details>\n",
    "    <summary><h4><strong>Hint 3</strong></h4></summary>\n",
    "\n",
    "Use the `print()` function to display the messages.\n",
    "    \n",
    "</details>"
   ]
  },
  {
   "cell_type": "markdown",
   "metadata": {
    "id": "ofuRLadDKra6"
   },
   "source": [
    "## Task 6\n",
    "Imagine now that the information the users are trying to access is restricted, and if an IP address outside the list of allowed IP addresses attempts access, the loop should terminate because further investigation would be needed to assess whether this activity poses a threat. To achieve this, use the `break` keyword and expand the message that is displayed to the user when their IP address is not in `allow_list` to provide more specifics. Instead of `\"IP address is not allowed\"`, display `\"IP address is not allowed. Further investigation of login activity required\"`.\n",
    "\n",
    "Be sure to replace the `### YOUR CODE HERE ###` with your own code before you run the following cell."
   ]
  },
  {
   "cell_type": "code",
   "execution_count": 7,
   "metadata": {
    "id": "g0yecDwbMUaX"
   },
   "outputs": [
    {
     "name": "stdout",
     "output_type": "stream",
     "text": [
      "192.168.142.245, IP address is not allowed. Further investigation of login activity required\n",
      "192.168.109.50, IP address is not allowed. Further investigation of login activity required\n",
      "192.168.86.232IP address is allowed\n",
      "192.168.131.147, IP address is not allowed. Further investigation of login activity required\n",
      "192.168.205.12IP address is allowed\n",
      "192.168.200.48, IP address is not allowed. Further investigation of login activity required\n"
     ]
    }
   ],
   "source": [
    "# Assign `allow_list` to a list of IP addresses that are allowed to log in\n",
    "\n",
    "allow_list = [\"192.168.243.140\", \"192.168.205.12\", \"192.168.151.162\", \"192.168.178.71\", \n",
    "              \"192.168.86.232\", \"192.168.3.24\", \"192.168.170.243\", \"192.168.119.173\"]\n",
    "\n",
    "# Assign `ip_addresses` to a list of IP addresses from which users have tried to log in\n",
    "\n",
    "ip_addresses = [\"192.168.142.245\", \"192.168.109.50\", \"192.168.86.232\", \"192.168.131.147\",\n",
    "                \"192.168.205.12\", \"192.168.200.48\"]\n",
    "\n",
    "# For each IP address in the list of IP addresses from which users have tried to log in, \n",
    "# If it is among the allowed addresses, then display “IP address is allowed”\n",
    "# Otherwise, display “IP address is not allowed”\n",
    "               \n",
    "for i in ip_addresses:\n",
    "\tif i in allow_list:\n",
    "\t\tprint(f\"{i}IP address is allowed\")\n",
    "\telse:\n",
    "\t\t\n",
    "\t\tprint(f\"{i}, IP address is not allowed. Further investigation of login activity required\")"
   ]
  },
  {
   "cell_type": "markdown",
   "metadata": {
    "id": "YYS-NEsTMbMT"
   },
   "source": [
    "<details>\n",
    "    <summary><h4><strong>Hint 1</strong></h4></summary>\n",
    "\n",
    "Use `i` as the loop variable and the `in` operator to convey that the specified action should repeat for each element that's in the list `ip_addresses`.\n",
    "\n",
    "Make sure that the `if` statement checks whether the user's IP address is in the list of allowed IP addresses.\n",
    "\n",
    "Use the `break` keyword to terminate the loop at the appropriate time.\n",
    "    \n",
    "</details>"
   ]
  },
  {
   "cell_type": "markdown",
   "metadata": {
    "id": "ahtv7SvEMbMT"
   },
   "source": [
    "<details>\n",
    "    <summary><h4><strong>Hint 2</strong></h4></summary>\n",
    "\n",
    "Use the `break` keyword inside the `else` statement after the appropriate message is displayed.\n",
    "    \n",
    "</details>"
   ]
  },
  {
   "cell_type": "markdown",
   "metadata": {
    "id": "_dq4tZ_kMbMT"
   },
   "source": [
    "<details>\n",
    "    <summary><h4><strong>Hint 3</strong></h4></summary>\n",
    "\n",
    "Use the `print()` function to display the messages.\n",
    "    \n",
    "</details>"
   ]
  },
  {
   "cell_type": "markdown",
   "metadata": {
    "id": "ESKyCxglOUy7"
   },
   "source": [
    "## Task 7\n",
    "\n",
    "You'll now complete another task. This involves automating the creation of new employee IDs.\n",
    "\n",
    "You have been asked to create employee IDs for a Sales department, with the criteria that the employee IDs should all be numbers that are unique, divisible by 5, and falling between 5000 and 5150. The employee IDs can include both 5000 and 5150.\n",
    "\n",
    "Write a `while` loop that generates unique employee IDs for the Sales department by iterating through numbers and displays each ID created. \n",
    "\n",
    "Be sure to replace the `### YOUR CODE HERE ###` with your own code before you run the following cell."
   ]
  },
  {
   "cell_type": "code",
   "execution_count": 12,
   "metadata": {
    "id": "qgG9nD4BRf78"
   },
   "outputs": [
    {
     "name": "stdout",
     "output_type": "stream",
     "text": [
      "This ID: 5000, It was generated\n",
      "This ID: 5005, It was generated\n",
      "This ID: 5010, It was generated\n",
      "This ID: 5015, It was generated\n",
      "This ID: 5020, It was generated\n",
      "This ID: 5025, It was generated\n",
      "This ID: 5030, It was generated\n",
      "This ID: 5035, It was generated\n",
      "This ID: 5040, It was generated\n",
      "This ID: 5045, It was generated\n",
      "This ID: 5050, It was generated\n",
      "This ID: 5055, It was generated\n",
      "This ID: 5060, It was generated\n",
      "This ID: 5065, It was generated\n",
      "This ID: 5070, It was generated\n",
      "This ID: 5075, It was generated\n",
      "This ID: 5080, It was generated\n",
      "This ID: 5085, It was generated\n",
      "This ID: 5090, It was generated\n",
      "This ID: 5095, It was generated\n",
      "This ID: 5100, It was generated\n",
      "This ID: 5105, It was generated\n",
      "This ID: 5110, It was generated\n",
      "This ID: 5115, It was generated\n",
      "This ID: 5120, It was generated\n",
      "This ID: 5125, It was generated\n",
      "This ID: 5130, It was generated\n",
      "This ID: 5135, It was generated\n",
      "This ID: 5140, It was generated\n",
      "This ID: 5145, It was generated\n",
      "This ID: 5150, It was generated\n"
     ]
    }
   ],
   "source": [
    "# Assign the loop variable `i` to an initial value of 5000\n",
    "\n",
    "i = 5000\n",
    "\n",
    "# While loop that generates unique employee IDs for the Sales department by iterating through numbers\n",
    "# and displays each ID created\n",
    "\n",
    "while i <= 5150: \n",
    "    if i % 5 == 0:\n",
    "        print(f\"This ID: {i}, It was generated\")\n",
    "    i = i + 1"
   ]
  },
  {
   "cell_type": "markdown",
   "metadata": {
    "id": "9YQHO6EQF0eW"
   },
   "source": [
    "<details>\n",
    "    <summary><h4><strong>Hint 1</strong></h4></summary>\n",
    "\n",
    "Use a comparison operator to check whether `i` has reached the upper bound (which is the highest employee ID number allowed). Remember that the employee IDs need to fall between 5000 and 5150. \n",
    "\n",
    "Make sure to update the value of the loop variable `i` at the end of the loop.\n",
    "    \n",
    "</details>"
   ]
  },
  {
   "cell_type": "markdown",
   "metadata": {
    "id": "fph0qWpkF0ed"
   },
   "source": [
    "<details>\n",
    "    <summary><h4><strong>Hint 2</strong></h4></summary>\n",
    "\n",
    "Use the `<=` comparison operator to check whether `i` has reached the upper bound, since the employee IDs need to fall between 5000 and 5150. \n",
    "\n",
    "At the end of the loop, increment the loop variable by 5. This is because the employee IDs need to be divisble by 5 and the first employee ID is set to 5000.\n",
    "    \n",
    "</details>"
   ]
  },
  {
   "cell_type": "markdown",
   "metadata": {
    "id": "rD-RD6BGF0ef"
   },
   "source": [
    "<details>\n",
    "    <summary><h4><strong>Hint 3</strong></h4></summary>\n",
    "\n",
    "Use the `<=` comparison operator to check whether `i` has reached 5150, since the employee IDs need to fall between 5000 and 5150. \n",
    "\n",
    "Use the `print()` function to display the loop variable `i` in each iteration.\n",
    "\n",
    "Use the `=` assignment operator and the `+` addition operator to increment the value of the loop variable at the end of each iteration.\n",
    "    \n",
    "</details>"
   ]
  },
  {
   "cell_type": "markdown",
   "metadata": {
    "id": "s7FvgswrSrf8"
   },
   "source": [
    "## Task 8\n",
    "You would like to incorporate a message that displays `Only 10 valid employee ids remaining` as a helpful alert once the loop variable reaches `5100`. \n",
    "\n",
    "To do so, include an `if` statement in your code.\n",
    "\n",
    "Be sure to replace the `### YOUR CODE HERE ###` with your own code before you run the following cell."
   ]
  },
  {
   "cell_type": "code",
   "execution_count": 15,
   "metadata": {
    "id": "Otu5log6U3Db"
   },
   "outputs": [
    {
     "name": "stdout",
     "output_type": "stream",
     "text": [
      "5000\n",
      "5005\n",
      "5010\n",
      "5015\n",
      "5020\n",
      "5025\n",
      "5030\n",
      "5035\n",
      "5040\n",
      "5045\n",
      "5050\n",
      "5055\n",
      "5060\n",
      "5065\n",
      "5070\n",
      "5075\n",
      "5080\n",
      "5085\n",
      "5090\n",
      "5095\n",
      "5100\n",
      "Only 10 valid employee ids remaining\n",
      "5105\n",
      "5110\n",
      "5115\n",
      "5120\n",
      "5125\n",
      "5130\n",
      "5135\n",
      "5140\n",
      "5145\n",
      "5150\n"
     ]
    }
   ],
   "source": [
    "# Assign the loop variable `i` to an initial value of 5000\n",
    "\n",
    "i = 5000\n",
    "\n",
    "# While loop that generates unique employee IDs for the Sales department by iterating through numbers\n",
    "# and displays each ID created\n",
    "# This loop displays \"Only 10 valid employee ids remaining\" once `i` reaches 5100\n",
    "\n",
    "while i <= 5150: \n",
    "    print(i)\n",
    "    if i == 5100:\n",
    "        print(\"Only 10 valid employee ids remaining\")### YOUR CODE HERE ###\n",
    "    i = i + 5"
   ]
  },
  {
   "cell_type": "markdown",
   "metadata": {
    "id": "HPQ5EChaVJTJ"
   },
   "source": [
    "<details>\n",
    "    <summary><h4><strong>Hint 1</strong></h4></summary>\n",
    "\n",
    "Use a comparison operator to check whether `i` has reached `5100`. \n",
    "    \n",
    "</details>"
   ]
  },
  {
   "cell_type": "markdown",
   "metadata": {
    "id": "pMbgtu4IVJTK"
   },
   "source": [
    "<details>\n",
    "    <summary><h4><strong>Hint 2</strong></h4></summary>\n",
    "\n",
    "Use the `==` comparison operator to check whether `i` has reached `5100`. \n",
    "    \n",
    "</details>"
   ]
  },
  {
   "cell_type": "markdown",
   "metadata": {
    "id": "noEs0XRNAYd3"
   },
   "source": [
    "<details>\n",
    "    <summary><h4><strong>Hint 3</strong></h4></summary>\n",
    "\n",
    "Use the `print()` function to display the message.\n",
    "    \n",
    "</details>"
   ]
  },
  {
   "cell_type": "markdown",
   "metadata": {
    "id": "goaW1X3mGUNt"
   },
   "source": [
    "#### **Question 2**\n",
    "**Why do you think the statement `print(i)` is written before the conditional rather than inside the conditional?**"
   ]
  },
  {
   "cell_type": "markdown",
   "metadata": {
    "id": "-j5YIVKSGph4"
   },
   "source": [
    "I think I know this because I need it; when the variables have specific values, I can print the desired message on the display."
   ]
  },
  {
   "cell_type": "markdown",
   "metadata": {
    "id": "BmvPYtFqEMc1"
   },
   "source": [
    "## Conclusion\n",
    "**What are your key takeaways from this lab?**\n",
    "\n",
    "Awesome, I like this methodology because I can understand everything I am learning step-by-step. It's exciting to learn Python; it's incredible all that I can do. I've learned to use the print function, for loops, and while loops. I enjoy training my brain to think in terms of logical relationships and automation with Python.\n",
    "\n",
    "\n",
    "\n",
    "\n"
   ]
  }
 ],
 "metadata": {
  "colab": {
   "provenance": [],
   "toc_visible": true
  },
  "kernelspec": {
   "display_name": "Python 3",
   "language": "python",
   "name": "python3"
  },
  "language_info": {
   "codemirror_mode": {
    "name": "ipython",
    "version": 3
   },
   "file_extension": ".py",
   "mimetype": "text/x-python",
   "name": "python",
   "nbconvert_exporter": "python",
   "pygments_lexer": "ipython3",
   "version": "3.7.6"
  }
 },
 "nbformat": 4,
 "nbformat_minor": 1
}
