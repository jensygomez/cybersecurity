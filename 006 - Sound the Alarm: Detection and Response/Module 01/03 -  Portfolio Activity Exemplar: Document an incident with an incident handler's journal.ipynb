{
 "cells": [
  {
   "cell_type": "markdown",
   "metadata": {},
   "source": [
    "**Author:**       Jensy Gregorio Gómez \n",
    "---------------------------------------\n",
    "**Profession:**  IT Support Analyst  \n",
    "**Date:**         18 Febrero 2024     \n",
    "**Location:**     Vila Isabel, Curitiba/PR  \n",
    "\n",
    "\n",
    "---\n",
    "\n",
    "**Contacto:**\n",
    "\n",
    "- **Email:** [contact@jensygomez.us](mailto:contact@jensygomez.us)\n",
    "- **YouTube:** [Tu Canal de YouTube](https://www.youtube.com/@systechcwb826)\n",
    "- **LinkedIn:** [Tu Perfil de LinkedIn](https://www.linkedin.com/in/jensygomez/)\n",
    "\n",
    "\n"
   ]
  },
  {
   "cell_type": "markdown",
   "metadata": {},
   "source": [
    "\n",
    "# Portfolio Activity Exemplar: Document an incident with an incident handler's journal\n",
    "\n",
    "Here is a completed exemplar along with an explanation of how the exemplar fulfills the expectations for the activity.\n",
    "\n",
    "## Completed Exemplar\n",
    "\n",
    "![](https://d3c33hcgiwev3.cloudfront.net/imageAssetProxy.v1/6F6khal1SKW99_BlgxnCIw_36107f94fefd4ba6ae29a3a3b5eff6f1_4ruwDTXXDHLXGFraqPyHe-SKusyzgyODdsIIHjH28oQdPeUnLZQOWfduQTEtFn1SLhh9ov1Mjg6N35cXq7vtxk3EV92Q79nsWtWn9mHaUt4CDuCQxalTC8Mbd9j3A3nOYCWXtmEaXdUdFSVhPEZTo_o?expiry=1708387200000&hmac=VdpwQlO1yMSLLdEPFuIrl1wXKOTtmSqoOhyelU0q9Fo)\n",
    "\n",
    "To review the exemplar for this course item, click the link and select _Use Template_.\n",
    "\n",
    "Link to exemplar: [Incident handler's journal entry exemplar](https://docs.google.com/document/d/1NdqPmIeVDjRMzVmOz_puj2Vw7YGZTyd_yrdcPqLTVYc/template/preview?usp=sharing)\n",
    "\n",
    "OR\n",
    "\n",
    "If you don’t have a Google account, you can download the exemplar directly from the following attachment.\n",
    "\n",
    "[](https://d3c33hcgiwev3.cloudfront.net/c3BfRpn4Tjajvi1CSwIwsQ_d37e89552c6a41b58442364bb43970f1_Incident-handler-s-journal-entry-exemplar.docx?Expires=1708387200&Signature=aMIDwQKOMLdNUHpeWwgL66~XqwtK1sZAy3YgIEc9qCoIWMKJBxxGh5nCffBPenHwrIauokMD~2RnkjJrHq~pQCbSFu67OXfpNKDs6Wvg3FUMngyRn8slS1V2J8uI5nciff8-vrxZ-Dbyd2Yz5csgSRwDiBnnfsZ3OZmApRSGHb8_&Key-Pair-Id=APKAJLTNE6QMUY6HBC5A)\n",
    "\n",
    "Incident handler's journal entry exemplar\n",
    "\n",
    "DOCX File\n",
    "\n",
    "## Assessment of Exemplar\n",
    "\n",
    "![](https://d3c33hcgiwev3.cloudfront.net/imageAssetProxy.v1/T6vsK7J4Q8mYYcUGvDHZ7w_f2bcf2e8aa5e4680b89d17a939cc6bf1_81-NCqw_hNku-ydwcjM2DjN5lIsdw5WO6UlRwTDF6eetRmBuAAY3uEDNXFSXXrQLjZC4H58INyfQTUIOCbkkZX-soh3RBTsdT0Bht0OfIf0UczQC2pN7Z7B9snzorG1uMgEcrYmgY4Bcy4LUvRtmlYp17xBTavgwWRUgCbp5q8Tjqf5edqFUqHlRJtdQGA?expiry=1708387200000&hmac=b8hYS_Wm4PrEXCNrE5q7L115PA79K43a0I92gBLOgvc)\n",
    "\n",
    "Compare the exemplar to your completed activity. Review your work using each of the criteria in the exemplar. What did you do well? Where can you improve? Use your answers to these questions to guide you as you continue to progress through the course.\n",
    "\n",
    "_**Note:**_ _The exemplar represents one of many possible ways to complete this activity. Yours will likely differ in certain ways. What’s important is that your incident handler's journal records the details of the scenario. Knowing how to use an incident handler's journal to record notes and additional details during an incident investigation is important because it can be used as a reference for future incident response efforts._\n",
    "\n",
    "![](https://d3c33hcgiwev3.cloudfront.net/imageAssetProxy.v1/ClkWh03jQQOHgWYvDd9o6A_49ea58906fb248c486e84803cd63e1f1_l5Ja29dgaSHrNEtrxG_U5A7drKzX6Hz3EPKGJgjuBQlER70pJew8AQhjJG3XwspQysz22ZCiE92uv9-RyqSmR8BCxSPmeja2dhBuZW04JCRAA-EEo1GtUW5LkhPuh5U15qfXgfV7XFTuowom_I7AfW4?expiry=1708387200000&hmac=1Q9Rfgcl489UNnhXR3TE4LtAGWKAniThjyDAwf1NQt0)\n",
    "\n",
    "The exemplar contains one completed journal entry. The journal entry is dated, numbered, and provides a brief description of the scenario. Additionally, in the **The 5 W's section**, the journal entry addresses the following about the scenario:\n",
    "\n",
    "-   Who caused the incident?\n",
    "    \n",
    "-   What happened?\n",
    "    \n",
    "-   When did the incident occur?\n",
    "    \n",
    "-   Where did the incident happen?\n",
    "    \n",
    "-   Why did the incident happen?\n",
    "    \n",
    "\n",
    "Lastly, the journal entry includes additional questions about the scenario in the **Additional notes** section.\n",
    "\n",
    "**Note**: The exemplar contains the first entry in the incident handler's journal. As you progress through the course, you'll complete the subsequent journal entries in your incident handler's journal template.\n",
    "\n",
    "## Key takeaways\n",
    "\n",
    "This activity enabled you to practice applying your documentation skills to complete a journal entry about a ransomware scenario. Accurate and thorough documentation is a critical aspect in incident response because it helps to ensure that important information is not lost or overlooked, and it also allows you to capture aspects of an incident for future use. Continue practicing your documentation skills by creating additional journal entries as you complete the course activities. By the end of the course, you will add this document to your cybersecurity portfolio."
   ]
  }
 ],
 "metadata": {
  "kernelspec": {
   "display_name": "Python 3 (ipykernel)",
   "language": "python",
   "name": "python3"
  },
  "language_info": {
   "codemirror_mode": {
    "name": "ipython",
    "version": 3
   },
   "file_extension": ".py",
   "mimetype": "text/x-python",
   "name": "python",
   "nbconvert_exporter": "python",
   "pygments_lexer": "ipython3",
   "version": "3.12.2"
  }
 },
 "nbformat": 4,
 "nbformat_minor": 2
}
