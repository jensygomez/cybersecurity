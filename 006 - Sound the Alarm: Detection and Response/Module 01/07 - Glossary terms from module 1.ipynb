{
 "cells": [
  {
   "cell_type": "markdown",
   "metadata": {},
   "source": [
    "**Author:**       Jensy Gregorio Gómez \n",
    "---------------------------------------\n",
    "**Profession:**  IT Support Analyst  \n",
    "**Date:**         18 Febrero 2024     \n",
    "**Location:**     Vila Isabel, Curitiba/PR  \n",
    "\n",
    "\n",
    "---\n",
    "\n",
    "**Contacto:**\n",
    "\n",
    "- **Email:** [contact@jensygomez.us](mailto:contact@jensygomez.us)\n",
    "- **YouTube:** [Tu Canal de YouTube](https://www.youtube.com/@systechcwb826)\n",
    "- **LinkedIn:** [Tu Perfil de LinkedIn](https://www.linkedin.com/in/jensygomez/)\n",
    "\n",
    "\n"
   ]
  },
  {
   "cell_type": "markdown",
   "metadata": {},
   "source": [
    "\n",
    "\n",
    "# Glossary terms from module 1\n",
    "\n",
    "## **Terms and definitions from Course 6, Module 1**\n",
    "\n",
    "**Computer security incident response teams (CSIRT):** A specialized group of security professionals that are trained in incident management and response\n",
    "\n",
    "**Documentation:** Any form of recorded content that is used for a specific purpose\n",
    "\n",
    "**Endpoint detection and response (EDR):** An application that monitors an endpoint for malicious activity\n",
    "\n",
    "**Event:** An observable occurrence on a network, system, or device\n",
    "\n",
    "**False negative**: A state where the presence of a threat is not detected\n",
    "\n",
    "**False positive:** An alert that incorrectly detects the presence of a threat\n",
    "\n",
    "**Incident:** An occurrence that actually or imminently jeopardizes, without lawful authority, the confidentiality, integrity, or availability of information or an information system; or constitutes a violation or imminent threat of violation of law, security policies, security procedures, or acceptable use policies\n",
    "\n",
    "**Incident handler’s journal:** A form of documentation used in incident response\n",
    "\n",
    "**Incident response plan:** A document that outlines the procedures to take in each step of incident response\n",
    "\n",
    "**Intrusion detection system (IDS):** An application that monitors system activity and alerts on possible intrusions\n",
    "\n",
    "**Intrusion prevention system (IPS):** An application that monitors system activity for intrusive activity and takes action to stop the activity\n",
    "\n",
    "**National Institute of Standards and Technology (NIST) Incident Response Lifecycle:** A framework for incident response consisting of four phases: Preparation; Detection and Analysis; Containment, Eradication, and Recovery; and Post-incident activity\n",
    "\n",
    "**Playbook:** A manual that provides details about any operational action\n",
    "\n",
    "**Security information and event management (SIEM):** An application that collects and analyzes log data to monitor critical activities in an organization\n",
    "\n",
    "**Security operations center (SOC):** An organizational unit dedicated to monitoring networks, systems, and devices for security threats or attacks\n",
    "\n",
    "**Security orchestration, automation, and response (SOAR):** A collection of applications, tools, and workflows that uses automation to respond to security events\n",
    "\n",
    "**True negative:** A state where there is no detection of malicious activity\n",
    "\n",
    "**True positive** An alert that correctly detects the presence of an attack"
   ]
  }
 ],
 "metadata": {
  "kernelspec": {
   "display_name": "Python 3 (ipykernel)",
   "language": "python",
   "name": "python3"
  },
  "language_info": {
   "codemirror_mode": {
    "name": "ipython",
    "version": 3
   },
   "file_extension": ".py",
   "mimetype": "text/x-python",
   "name": "python",
   "nbconvert_exporter": "python",
   "pygments_lexer": "ipython3",
   "version": "3.12.2"
  }
 },
 "nbformat": 4,
 "nbformat_minor": 2
}
