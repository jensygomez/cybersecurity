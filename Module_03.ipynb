{
  "nbformat": 4,
  "nbformat_minor": 0,
  "metadata": {
    "colab": {
      "provenance": [],
      "toc_visible": true,
      "authorship_tag": "ABX9TyPy0aA34XLxdobq+7gKJJxB",
      "include_colab_link": true
    },
    "kernelspec": {
      "name": "python3",
      "display_name": "Python 3"
    },
    "language_info": {
      "name": "python"
    }
  },
  "cells": [
    {
      "cell_type": "markdown",
      "metadata": {
        "id": "view-in-github",
        "colab_type": "text"
      },
      "source": [
        "<a href=\"https://colab.research.google.com/github/jensygomez/cybersecurity/blob/main/Module_03.ipynb\" target=\"_parent\"><img src=\"https://colab.research.google.com/assets/colab-badge.svg\" alt=\"Open In Colab\"/></a>"
      ]
    },
    {
      "cell_type": "markdown",
      "source": [
        "# Work with strings"
      ],
      "metadata": {
        "id": "05N6C24o__m9"
      }
    },
    {
      "cell_type": "markdown",
      "source": [
        "# Work with lists and develop algorithms"
      ],
      "metadata": {
        "id": "kxW_2h0iAskd"
      }
    },
    {
      "cell_type": "markdown",
      "source": [
        "# Regular expressions"
      ],
      "metadata": {
        "id": "JvJHpx1hA6yF"
      }
    },
    {
      "cell_type": "markdown",
      "source": [
        "# review: Work eith strings and lists"
      ],
      "metadata": {
        "id": "vp9jcA-NBD7H"
      }
    }
  ]
}